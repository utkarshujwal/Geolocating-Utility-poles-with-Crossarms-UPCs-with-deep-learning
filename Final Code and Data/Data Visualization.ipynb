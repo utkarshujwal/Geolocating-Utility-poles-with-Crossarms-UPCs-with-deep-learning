{
  "nbformat": 4,
  "nbformat_minor": 0,
  "metadata": {
    "language_info": {
      "codemirror_mode": {
        "name": "ipython",
        "version": 3
      },
      "file_extension": ".py",
      "mimetype": "text/x-python",
      "name": "python",
      "nbconvert_exporter": "python",
      "pygments_lexer": "ipython3",
      "version": "3.8.5-final"
    },
    "orig_nbformat": 2,
    "kernelspec": {
      "name": "python3",
      "display_name": "Python 3.8.5 64-bit (conda)",
      "metadata": {
        "interpreter": {
          "hash": "b3ba2566441a7c06988d0923437866b63cedc61552a5af99d1f4fb67d367b25f"
        }
      }
    },
    "colab": {
      "name": "dataAnalysis.ipynb",
      "provenance": []
    }
  },
  "cells": [
    {
      "cell_type": "code",
      "metadata": {
        "id": "1LbnuweKha0T"
      },
      "source": [
        "import pandas as pd \n",
        "import seaborn as sns"
      ],
      "execution_count": null,
      "outputs": []
    },
    {
      "cell_type": "code",
      "metadata": {
        "id": "w1UYyTgHlaOp",
        "colab": {
          "base_uri": "https://localhost:8080/"
        },
        "outputId": "ed8fcc21-056e-4e69-fe50-4ca84acede8d"
      },
      "source": [
        "from google.colab import drive\n",
        "drive.mount('/content/gdrive')"
      ],
      "execution_count": null,
      "outputs": [
        {
          "output_type": "stream",
          "text": [
            "Mounted at /content/gdrive\n"
          ],
          "name": "stdout"
        }
      ]
    },
    {
      "cell_type": "code",
      "metadata": {
        "colab": {
          "base_uri": "https://localhost:8080/",
          "height": 204
        },
        "id": "Y87jQJqyha0Z",
        "outputId": "280ad43b-f0ad-422d-9778-38584f751ee6"
      },
      "source": [
        "metadata = pd.read_json(\"/content/gdrive/Shareddrives/ComED Codes and Data/Dataset/metadata.json\")\n",
        "\n",
        "metadata.head()"
      ],
      "execution_count": null,
      "outputs": [
        {
          "output_type": "execute_result",
          "data": {
            "text/html": [
              "<div>\n",
              "<style scoped>\n",
              "    .dataframe tbody tr th:only-of-type {\n",
              "        vertical-align: middle;\n",
              "    }\n",
              "\n",
              "    .dataframe tbody tr th {\n",
              "        vertical-align: top;\n",
              "    }\n",
              "\n",
              "    .dataframe thead th {\n",
              "        text-align: right;\n",
              "    }\n",
              "</style>\n",
              "<table border=\"1\" class=\"dataframe\">\n",
              "  <thead>\n",
              "    <tr style=\"text-align: right;\">\n",
              "      <th></th>\n",
              "      <th>copyright</th>\n",
              "      <th>date</th>\n",
              "      <th>location</th>\n",
              "      <th>pano_id</th>\n",
              "      <th>status</th>\n",
              "      <th>_file</th>\n",
              "    </tr>\n",
              "  </thead>\n",
              "  <tbody>\n",
              "    <tr>\n",
              "      <th>0</th>\n",
              "      <td>© Google</td>\n",
              "      <td>2019-07-01</td>\n",
              "      <td>{'lat': 41.92667912096311, 'lng': -87.69075278...</td>\n",
              "      <td>ktaqgQrwBEmkOvLrXVuAJA</td>\n",
              "      <td>OK</td>\n",
              "      <td>gsv_0.jpg</td>\n",
              "    </tr>\n",
              "    <tr>\n",
              "      <th>1</th>\n",
              "      <td>© Google</td>\n",
              "      <td>2019-07-01</td>\n",
              "      <td>{'lat': 41.92667912096311, 'lng': -87.69075278...</td>\n",
              "      <td>ktaqgQrwBEmkOvLrXVuAJA</td>\n",
              "      <td>OK</td>\n",
              "      <td>gsv_1.jpg</td>\n",
              "    </tr>\n",
              "    <tr>\n",
              "      <th>2</th>\n",
              "      <td>© Google</td>\n",
              "      <td>2019-07-01</td>\n",
              "      <td>{'lat': 41.92667912096311, 'lng': -87.69075278...</td>\n",
              "      <td>ktaqgQrwBEmkOvLrXVuAJA</td>\n",
              "      <td>OK</td>\n",
              "      <td>gsv_2.jpg</td>\n",
              "    </tr>\n",
              "    <tr>\n",
              "      <th>3</th>\n",
              "      <td>© Google</td>\n",
              "      <td>2019-07-01</td>\n",
              "      <td>{'lat': 41.92667912096311, 'lng': -87.69075278...</td>\n",
              "      <td>ktaqgQrwBEmkOvLrXVuAJA</td>\n",
              "      <td>OK</td>\n",
              "      <td>gsv_3.jpg</td>\n",
              "    </tr>\n",
              "    <tr>\n",
              "      <th>4</th>\n",
              "      <td>© Google</td>\n",
              "      <td>2019-07-01</td>\n",
              "      <td>{'lat': 41.92667912096311, 'lng': -87.69075278...</td>\n",
              "      <td>ktaqgQrwBEmkOvLrXVuAJA</td>\n",
              "      <td>OK</td>\n",
              "      <td>gsv_4.jpg</td>\n",
              "    </tr>\n",
              "  </tbody>\n",
              "</table>\n",
              "</div>"
            ],
            "text/plain": [
              "  copyright       date  ... status      _file\n",
              "0  © Google 2019-07-01  ...     OK  gsv_0.jpg\n",
              "1  © Google 2019-07-01  ...     OK  gsv_1.jpg\n",
              "2  © Google 2019-07-01  ...     OK  gsv_2.jpg\n",
              "3  © Google 2019-07-01  ...     OK  gsv_3.jpg\n",
              "4  © Google 2019-07-01  ...     OK  gsv_4.jpg\n",
              "\n",
              "[5 rows x 6 columns]"
            ]
          },
          "metadata": {
            "tags": []
          },
          "execution_count": 59
        }
      ]
    },
    {
      "cell_type": "code",
      "metadata": {
        "id": "Q-3xU6SKqpDi"
      },
      "source": [
        "metadata[['lat','lon']] = metadata.location.apply(lambda x: pd.Series(str(x).split(\",\")))"
      ],
      "execution_count": null,
      "outputs": []
    },
    {
      "cell_type": "code",
      "metadata": {
        "colab": {
          "base_uri": "https://localhost:8080/",
          "height": 204
        },
        "id": "5x9Ak2k5sboB",
        "outputId": "bde4a3a5-ba40-4892-986f-13889e2b2ee6"
      },
      "source": [
        "metadata.head()\n",
        "#metadata.info()"
      ],
      "execution_count": null,
      "outputs": [
        {
          "output_type": "execute_result",
          "data": {
            "text/html": [
              "<div>\n",
              "<style scoped>\n",
              "    .dataframe tbody tr th:only-of-type {\n",
              "        vertical-align: middle;\n",
              "    }\n",
              "\n",
              "    .dataframe tbody tr th {\n",
              "        vertical-align: top;\n",
              "    }\n",
              "\n",
              "    .dataframe thead th {\n",
              "        text-align: right;\n",
              "    }\n",
              "</style>\n",
              "<table border=\"1\" class=\"dataframe\">\n",
              "  <thead>\n",
              "    <tr style=\"text-align: right;\">\n",
              "      <th></th>\n",
              "      <th>copyright</th>\n",
              "      <th>date</th>\n",
              "      <th>location</th>\n",
              "      <th>pano_id</th>\n",
              "      <th>status</th>\n",
              "      <th>_file</th>\n",
              "      <th>lat</th>\n",
              "      <th>lon</th>\n",
              "    </tr>\n",
              "  </thead>\n",
              "  <tbody>\n",
              "    <tr>\n",
              "      <th>0</th>\n",
              "      <td>© Google</td>\n",
              "      <td>2019-07-01</td>\n",
              "      <td>{'lat': 41.92667912096311, 'lng': -87.69075278...</td>\n",
              "      <td>ktaqgQrwBEmkOvLrXVuAJA</td>\n",
              "      <td>OK</td>\n",
              "      <td>gsv_0.jpg</td>\n",
              "      <td>{'lat': 41.92667912096311</td>\n",
              "      <td>'lng': -87.69075278911684}</td>\n",
              "    </tr>\n",
              "    <tr>\n",
              "      <th>1</th>\n",
              "      <td>© Google</td>\n",
              "      <td>2019-07-01</td>\n",
              "      <td>{'lat': 41.92667912096311, 'lng': -87.69075278...</td>\n",
              "      <td>ktaqgQrwBEmkOvLrXVuAJA</td>\n",
              "      <td>OK</td>\n",
              "      <td>gsv_1.jpg</td>\n",
              "      <td>{'lat': 41.92667912096311</td>\n",
              "      <td>'lng': -87.69075278911684}</td>\n",
              "    </tr>\n",
              "    <tr>\n",
              "      <th>2</th>\n",
              "      <td>© Google</td>\n",
              "      <td>2019-07-01</td>\n",
              "      <td>{'lat': 41.92667912096311, 'lng': -87.69075278...</td>\n",
              "      <td>ktaqgQrwBEmkOvLrXVuAJA</td>\n",
              "      <td>OK</td>\n",
              "      <td>gsv_2.jpg</td>\n",
              "      <td>{'lat': 41.92667912096311</td>\n",
              "      <td>'lng': -87.69075278911684}</td>\n",
              "    </tr>\n",
              "    <tr>\n",
              "      <th>3</th>\n",
              "      <td>© Google</td>\n",
              "      <td>2019-07-01</td>\n",
              "      <td>{'lat': 41.92667912096311, 'lng': -87.69075278...</td>\n",
              "      <td>ktaqgQrwBEmkOvLrXVuAJA</td>\n",
              "      <td>OK</td>\n",
              "      <td>gsv_3.jpg</td>\n",
              "      <td>{'lat': 41.92667912096311</td>\n",
              "      <td>'lng': -87.69075278911684}</td>\n",
              "    </tr>\n",
              "    <tr>\n",
              "      <th>4</th>\n",
              "      <td>© Google</td>\n",
              "      <td>2019-07-01</td>\n",
              "      <td>{'lat': 41.92667912096311, 'lng': -87.69075278...</td>\n",
              "      <td>ktaqgQrwBEmkOvLrXVuAJA</td>\n",
              "      <td>OK</td>\n",
              "      <td>gsv_4.jpg</td>\n",
              "      <td>{'lat': 41.92667912096311</td>\n",
              "      <td>'lng': -87.69075278911684}</td>\n",
              "    </tr>\n",
              "  </tbody>\n",
              "</table>\n",
              "</div>"
            ],
            "text/plain": [
              "  copyright       date  ...                        lat                          lon\n",
              "0  © Google 2019-07-01  ...  {'lat': 41.92667912096311   'lng': -87.69075278911684}\n",
              "1  © Google 2019-07-01  ...  {'lat': 41.92667912096311   'lng': -87.69075278911684}\n",
              "2  © Google 2019-07-01  ...  {'lat': 41.92667912096311   'lng': -87.69075278911684}\n",
              "3  © Google 2019-07-01  ...  {'lat': 41.92667912096311   'lng': -87.69075278911684}\n",
              "4  © Google 2019-07-01  ...  {'lat': 41.92667912096311   'lng': -87.69075278911684}\n",
              "\n",
              "[5 rows x 8 columns]"
            ]
          },
          "metadata": {
            "tags": []
          },
          "execution_count": 61
        }
      ]
    },
    {
      "cell_type": "code",
      "metadata": {
        "id": "cUDTYGdzusWQ"
      },
      "source": [
        "metadata['lat']= metadata['lat'].astype(str).map(lambda x: x.strip(\"'{lat:'\"))\n",
        "metadata['lon']= metadata['lon'].astype(str).map(lambda x: x.strip(\"'lng:}'\"))\n",
        "\n"
      ],
      "execution_count": null,
      "outputs": []
    },
    {
      "cell_type": "code",
      "metadata": {
        "colab": {
          "base_uri": "https://localhost:8080/",
          "height": 204
        },
        "id": "BMurJ2kWweJB",
        "outputId": "98013798-c75d-445d-cd8f-3189835bb121"
      },
      "source": [
        "metadata.head()"
      ],
      "execution_count": null,
      "outputs": [
        {
          "output_type": "execute_result",
          "data": {
            "text/html": [
              "<div>\n",
              "<style scoped>\n",
              "    .dataframe tbody tr th:only-of-type {\n",
              "        vertical-align: middle;\n",
              "    }\n",
              "\n",
              "    .dataframe tbody tr th {\n",
              "        vertical-align: top;\n",
              "    }\n",
              "\n",
              "    .dataframe thead th {\n",
              "        text-align: right;\n",
              "    }\n",
              "</style>\n",
              "<table border=\"1\" class=\"dataframe\">\n",
              "  <thead>\n",
              "    <tr style=\"text-align: right;\">\n",
              "      <th></th>\n",
              "      <th>copyright</th>\n",
              "      <th>date</th>\n",
              "      <th>location</th>\n",
              "      <th>pano_id</th>\n",
              "      <th>status</th>\n",
              "      <th>_file</th>\n",
              "      <th>lat</th>\n",
              "      <th>lon</th>\n",
              "    </tr>\n",
              "  </thead>\n",
              "  <tbody>\n",
              "    <tr>\n",
              "      <th>0</th>\n",
              "      <td>© Google</td>\n",
              "      <td>2019-07-01</td>\n",
              "      <td>{'lat': 41.92667912096311, 'lng': -87.69075278...</td>\n",
              "      <td>ktaqgQrwBEmkOvLrXVuAJA</td>\n",
              "      <td>OK</td>\n",
              "      <td>gsv_0.jpg</td>\n",
              "      <td>41.92667912096311</td>\n",
              "      <td>'lng': -87.69075278911684</td>\n",
              "    </tr>\n",
              "    <tr>\n",
              "      <th>1</th>\n",
              "      <td>© Google</td>\n",
              "      <td>2019-07-01</td>\n",
              "      <td>{'lat': 41.92667912096311, 'lng': -87.69075278...</td>\n",
              "      <td>ktaqgQrwBEmkOvLrXVuAJA</td>\n",
              "      <td>OK</td>\n",
              "      <td>gsv_1.jpg</td>\n",
              "      <td>41.92667912096311</td>\n",
              "      <td>'lng': -87.69075278911684</td>\n",
              "    </tr>\n",
              "    <tr>\n",
              "      <th>2</th>\n",
              "      <td>© Google</td>\n",
              "      <td>2019-07-01</td>\n",
              "      <td>{'lat': 41.92667912096311, 'lng': -87.69075278...</td>\n",
              "      <td>ktaqgQrwBEmkOvLrXVuAJA</td>\n",
              "      <td>OK</td>\n",
              "      <td>gsv_2.jpg</td>\n",
              "      <td>41.92667912096311</td>\n",
              "      <td>'lng': -87.69075278911684</td>\n",
              "    </tr>\n",
              "    <tr>\n",
              "      <th>3</th>\n",
              "      <td>© Google</td>\n",
              "      <td>2019-07-01</td>\n",
              "      <td>{'lat': 41.92667912096311, 'lng': -87.69075278...</td>\n",
              "      <td>ktaqgQrwBEmkOvLrXVuAJA</td>\n",
              "      <td>OK</td>\n",
              "      <td>gsv_3.jpg</td>\n",
              "      <td>41.92667912096311</td>\n",
              "      <td>'lng': -87.69075278911684</td>\n",
              "    </tr>\n",
              "    <tr>\n",
              "      <th>4</th>\n",
              "      <td>© Google</td>\n",
              "      <td>2019-07-01</td>\n",
              "      <td>{'lat': 41.92667912096311, 'lng': -87.69075278...</td>\n",
              "      <td>ktaqgQrwBEmkOvLrXVuAJA</td>\n",
              "      <td>OK</td>\n",
              "      <td>gsv_4.jpg</td>\n",
              "      <td>41.92667912096311</td>\n",
              "      <td>'lng': -87.69075278911684</td>\n",
              "    </tr>\n",
              "  </tbody>\n",
              "</table>\n",
              "</div>"
            ],
            "text/plain": [
              "  copyright       date  ...                 lat                         lon\n",
              "0  © Google 2019-07-01  ...   41.92667912096311   'lng': -87.69075278911684\n",
              "1  © Google 2019-07-01  ...   41.92667912096311   'lng': -87.69075278911684\n",
              "2  © Google 2019-07-01  ...   41.92667912096311   'lng': -87.69075278911684\n",
              "3  © Google 2019-07-01  ...   41.92667912096311   'lng': -87.69075278911684\n",
              "4  © Google 2019-07-01  ...   41.92667912096311   'lng': -87.69075278911684\n",
              "\n",
              "[5 rows x 8 columns]"
            ]
          },
          "metadata": {
            "tags": []
          },
          "execution_count": 64
        }
      ]
    },
    {
      "cell_type": "code",
      "metadata": {
        "id": "Dh8S9CYoOovE"
      },
      "source": [
        "metadata.to_csv(r'/content/gdrive/Shareddrives/ComED Codes and Data/Keras /streetview_objectmapping/Sample dataset/Traffic lights 50/coordinates.csv', index = False)"
      ],
      "execution_count": null,
      "outputs": []
    },
    {
      "cell_type": "code",
      "metadata": {
        "id": "w4LY66RJha0b",
        "colab": {
          "base_uri": "https://localhost:8080/",
          "height": 195
        },
        "outputId": "f5d95b99-a66d-4b70-a9c6-5c49c71788ea"
      },
      "source": [
        "metadata['year'] =  pd.DatetimeIndex(metadata['date']).year\n",
        "metadata['month'] =  pd.to_datetime(metadata['date'], format='%m').dt.month_name().str.slice(stop=3)\n",
        "\n",
        "metadata.head()"
      ],
      "execution_count": null,
      "outputs": [
        {
          "output_type": "execute_result",
          "data": {
            "text/html": [
              "<div>\n",
              "<style scoped>\n",
              "    .dataframe tbody tr th:only-of-type {\n",
              "        vertical-align: middle;\n",
              "    }\n",
              "\n",
              "    .dataframe tbody tr th {\n",
              "        vertical-align: top;\n",
              "    }\n",
              "\n",
              "    .dataframe thead th {\n",
              "        text-align: right;\n",
              "    }\n",
              "</style>\n",
              "<table border=\"1\" class=\"dataframe\">\n",
              "  <thead>\n",
              "    <tr style=\"text-align: right;\">\n",
              "      <th></th>\n",
              "      <th>copyright</th>\n",
              "      <th>date</th>\n",
              "      <th>location</th>\n",
              "      <th>pano_id</th>\n",
              "      <th>status</th>\n",
              "      <th>_file</th>\n",
              "      <th>year</th>\n",
              "      <th>month</th>\n",
              "    </tr>\n",
              "  </thead>\n",
              "  <tbody>\n",
              "    <tr>\n",
              "      <th>0</th>\n",
              "      <td>© Google</td>\n",
              "      <td>2019-07-01</td>\n",
              "      <td>{'lat': 41.92667912096311, 'lng': -87.69075278...</td>\n",
              "      <td>ktaqgQrwBEmkOvLrXVuAJA</td>\n",
              "      <td>OK</td>\n",
              "      <td>gsv_0.jpg</td>\n",
              "      <td>2019.0</td>\n",
              "      <td>Jul</td>\n",
              "    </tr>\n",
              "    <tr>\n",
              "      <th>1</th>\n",
              "      <td>© Google</td>\n",
              "      <td>2019-07-01</td>\n",
              "      <td>{'lat': 41.92667912096311, 'lng': -87.69075278...</td>\n",
              "      <td>ktaqgQrwBEmkOvLrXVuAJA</td>\n",
              "      <td>OK</td>\n",
              "      <td>gsv_1.jpg</td>\n",
              "      <td>2019.0</td>\n",
              "      <td>Jul</td>\n",
              "    </tr>\n",
              "    <tr>\n",
              "      <th>2</th>\n",
              "      <td>© Google</td>\n",
              "      <td>2019-07-01</td>\n",
              "      <td>{'lat': 41.92667912096311, 'lng': -87.69075278...</td>\n",
              "      <td>ktaqgQrwBEmkOvLrXVuAJA</td>\n",
              "      <td>OK</td>\n",
              "      <td>gsv_2.jpg</td>\n",
              "      <td>2019.0</td>\n",
              "      <td>Jul</td>\n",
              "    </tr>\n",
              "    <tr>\n",
              "      <th>3</th>\n",
              "      <td>© Google</td>\n",
              "      <td>2019-07-01</td>\n",
              "      <td>{'lat': 41.92667912096311, 'lng': -87.69075278...</td>\n",
              "      <td>ktaqgQrwBEmkOvLrXVuAJA</td>\n",
              "      <td>OK</td>\n",
              "      <td>gsv_3.jpg</td>\n",
              "      <td>2019.0</td>\n",
              "      <td>Jul</td>\n",
              "    </tr>\n",
              "    <tr>\n",
              "      <th>4</th>\n",
              "      <td>© Google</td>\n",
              "      <td>2019-07-01</td>\n",
              "      <td>{'lat': 41.92667912096311, 'lng': -87.69075278...</td>\n",
              "      <td>ktaqgQrwBEmkOvLrXVuAJA</td>\n",
              "      <td>OK</td>\n",
              "      <td>gsv_4.jpg</td>\n",
              "      <td>2019.0</td>\n",
              "      <td>Jul</td>\n",
              "    </tr>\n",
              "  </tbody>\n",
              "</table>\n",
              "</div>"
            ],
            "text/plain": [
              "  copyright       date  ...    year month\n",
              "0  © Google 2019-07-01  ...  2019.0   Jul\n",
              "1  © Google 2019-07-01  ...  2019.0   Jul\n",
              "2  © Google 2019-07-01  ...  2019.0   Jul\n",
              "3  © Google 2019-07-01  ...  2019.0   Jul\n",
              "4  © Google 2019-07-01  ...  2019.0   Jul\n",
              "\n",
              "[5 rows x 8 columns]"
            ]
          },
          "metadata": {
            "tags": []
          },
          "execution_count": 4
        }
      ]
    },
    {
      "cell_type": "code",
      "metadata": {
        "id": "ZE-mOjr0ha0c",
        "colab": {
          "base_uri": "https://localhost:8080/",
          "height": 367
        },
        "outputId": "63940cf4-f8c2-4146-8963-865d97edbc90"
      },
      "source": [
        "import matplotlib.pyplot as plt\n",
        "plt.figure(figsize = (10,5))\n",
        "\n",
        "sns.countplot(data = metadata, x='year')\n",
        "plt.title(\"Image distribution across years\")"
      ],
      "execution_count": null,
      "outputs": [
        {
          "output_type": "execute_result",
          "data": {
            "text/plain": [
              "Text(0.5, 1.0, 'Image distribution across years')"
            ]
          },
          "metadata": {
            "tags": []
          },
          "execution_count": 5
        },
        {
          "output_type": "display_data",
          "data": {
            "image/png": "[encoded data removed]",
            "text/plain": [
              "<Figure size 720x360 with 1 Axes>"
            ]
          },
          "metadata": {
            "tags": [],
            "needs_background": "light"
          }
        }
      ]
    },
    {
      "cell_type": "code",
      "metadata": {
        "id": "-B7CENpYha0d",
        "colab": {
          "base_uri": "https://localhost:8080/"
        },
        "outputId": "fe7c58b9-7813-47cb-97ec-fe4a2950d9b4"
      },
      "source": [
        "metadata.groupby('year').count()['month']/metadata.groupby('year').count()['month'].sum()"
      ],
      "execution_count": null,
      "outputs": [
        {
          "output_type": "execute_result",
          "data": {
            "text/plain": [
              "year\n",
              "2007.0    0.001292\n",
              "2009.0    0.001615\n",
              "2010.0    0.008721\n",
              "2013.0    0.002584\n",
              "2014.0    0.004845\n",
              "2015.0    0.009367\n",
              "2016.0    0.007752\n",
              "2017.0    0.008721\n",
              "2018.0    0.185078\n",
              "2019.0    0.765827\n",
              "2020.0    0.003230\n",
              "2021.0    0.000969\n",
              "Name: month, dtype: float64"
            ]
          },
          "metadata": {
            "tags": []
          },
          "execution_count": 6
        }
      ]
    },
    {
      "cell_type": "code",
      "metadata": {
        "id": "u8YkEAibha0d",
        "colab": {
          "base_uri": "https://localhost:8080/",
          "height": 330
        },
        "outputId": "53236cd7-6dca-4eef-d3b0-20c1b9735cc9"
      },
      "source": [
        "sns.countplot(data = metadata,x='month')\n",
        "plt.title(\"Image distribution across Months\")\n",
        "\"\"\"\n",
        "The images we have are from Jul, Aug, June, May. \n",
        "\n",
        "\n",
        "pros : clear images. \n",
        "\n",
        "cons : data of the problematic time are not taken.\n",
        "         no snow period images. \n",
        "            possibly the authenticity of the analysis can be judged. \n",
        "\n",
        "\"\"\""
      ],
      "execution_count": null,
      "outputs": [
        {
          "output_type": "execute_result",
          "data": {
            "application/vnd.google.colaboratory.intrinsic+json": {
              "type": "string"
            },
            "text/plain": [
              "'\\nThe images we have are from Jul, Aug, June, May. \\n\\n\\npros : clear images. \\n\\ncons : data of the problematic time are not taken.\\n         no snow period images. \\n            possibly the authenticity of the analysis can be judged. \\n\\n'"
            ]
          },
          "metadata": {
            "tags": []
          },
          "execution_count": 7
        },
        {
          "output_type": "display_data",
          "data": {
            "image/png": "[encoded data removed]",
            "text/plain": [
              "<Figure size 432x288 with 1 Axes>"
            ]
          },
          "metadata": {
            "tags": [],
            "needs_background": "light"
          }
        }
      ]
    },
    {
      "cell_type": "code",
      "metadata": {
        "id": "3pWz7CKoha0g"
      },
      "source": [
        ""
      ],
      "execution_count": null,
      "outputs": []
    }
  ]
}