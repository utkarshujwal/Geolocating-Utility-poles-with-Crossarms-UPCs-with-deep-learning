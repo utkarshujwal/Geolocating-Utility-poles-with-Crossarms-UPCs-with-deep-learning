{
  "nbformat": 4,
  "nbformat_minor": 0,
  "metadata": {
    "kernelspec": {
      "display_name": "Python 3",
      "language": "python",
      "name": "python3"
    },
    "language_info": {
      "codemirror_mode": {
        "name": "ipython",
        "version": 3
      },
      "file_extension": ".py",
      "mimetype": "text/x-python",
      "name": "python",
      "nbconvert_exporter": "python",
      "pygments_lexer": "ipython3",
      "version": "3.8.5"
    },
    "colab": {
      "name": "GPScordinates.ipynb",
      "provenance": []
    }
  },
  "cells": [
    {
      "cell_type": "code",
      "metadata": {
        "id": "upshVS5K02kA"
      },
      "source": [
        "# required Libraries \n",
        "\n",
        "import os\n",
        "import csv "
      ],
      "execution_count": null,
      "outputs": []
    },
    {
      "cell_type": "code",
      "metadata": {
        "id": "dMdeb3zM02kF"
      },
      "source": [
        "# environment setup \n",
        "os.chdir('c:\\\\ComEd')\n",
        "# get working directory and API key \n",
        "work_dir = os.getcwd()\n",
        "api_key = \"\"\n",
        "\n",
        "# image data saving location \n",
        "Image_dir = work_dir + '\\\\Streetimages'\n",
        "\n",
        "# work_dir"
      ],
      "execution_count": null,
      "outputs": []
    },
    {
      "cell_type": "code",
      "metadata": {
        "id": "NGYsy1vn02kG",
        "outputId": "bb775825-9454-41f7-f642-5fdaaa4147ea"
      },
      "source": [
        "\"\"\"\n",
        "Functions to calculate latitude and longitude degree difference to cover landscape. \n",
        "@parameters \n",
        "    - takes a number in miles user to get the required difference latitude and longitude miles in angles. \n",
        "    - returns the angle differnce to cover. \n",
        "\"\"\"\n",
        "\n",
        "\"\"\"\n",
        "conversion scale \n",
        "1° = 111 km  (or 60 nautical miles)              | 68.97 miles\n",
        "0.1° = 11.1 km                                   | 6.897 miles\n",
        "0.01° = 1.11 km (2 decimals, km accuracy)        | 0.6897 miles\n",
        "0.001° =111 m                                    | 0.06897 miles\n",
        "0.0001° = 11.1 m\n",
        "0.00001° = 1.11 m\n",
        "0.000001° = 0.11 m (7 decimals, cm accuracy)\n",
        "\"\"\" \n",
        "\n",
        "def get_difference(scraping_miles):\n",
        "    return scraping_miles/69, scraping_miles/54\n",
        "\n",
        "# sanity check\n",
        "get_difference(0.02)"
      ],
      "execution_count": null,
      "outputs": [
        {
          "output_type": "execute_result",
          "data": {
            "text/plain": [
              "(0.0002898550724637681, 0.00037037037037037035)"
            ]
          },
          "metadata": {
            "tags": []
          },
          "execution_count": 20
        }
      ]
    },
    {
      "cell_type": "code",
      "metadata": {
        "id": "6wngmasm02kH"
      },
      "source": [
        "# Geo location information \n",
        "\"\"\" \n",
        "for a simpler version, took Long GPS cordinates of Itasca and Navy pier which is 22.8 miles walking distance\n",
        "for a simpler version, took Lat GPS cordinates of evanston and Navy pier which is 12.4 miles walking distance\n",
        "\n",
        "So the grid we are capturing for now is 23 x 12 miles  ( 276 sq miles) \n",
        "\"\"\" \n",
        "\n",
        "lat_north = 42.0451 \n",
        "\"\"\" Evanston \"\"\"\n",
        "lat_south = 41.8919 \n",
        "\"\"\"(navy pier) \"\"\"\n",
        "\n",
        "long_east = -87.6051 \n",
        "\"\"\"(navy pier)\"\"\"\n",
        "long_west = -88.0073 \n",
        "\"\"\"(Itasca)\"\"\"\n",
        "\n",
        "# the view angle \n",
        "fov = [0,90,180,270]"
      ],
      "execution_count": null,
      "outputs": []
    },
    {
      "cell_type": "code",
      "metadata": {
        "id": "sqVRO4Qs02kH",
        "outputId": "c1a4d696-a25e-4bce-c0ca-c7fcdd53b8fa"
      },
      "source": [
        "# 0.01° = 1.11 km (2 decimals, km accuracy)        | 0.6897 miles taking this difference to get the images. (hyperparameter) \n",
        "\n",
        "scrape_miles = 0.02\n",
        "lat_difference, long_differnece = get_difference(scrape_miles) \n",
        "\n",
        "# making a list of all the latitude and longitude intersections \n",
        "\n",
        "lat = lat_south\n",
        "lon = long_east\n",
        "\n",
        "cordinates = [] \n",
        "\n",
        "while lat <= lat_north:\n",
        "    while lon <= long_east:\n",
        "        cordinates.append(tuple([lat, lon]))\n",
        "        lon += long_differnece\n",
        "    lon = long_west\n",
        "    lat = lat + lat_difference\n",
        "\n",
        "print(len(cordinates))\n",
        "# saving into CSV file cordinates of the grid which is to be scraped \n",
        "\n",
        "# opening the csv file in 'w+' mode \n",
        "file = open('GPScordinates.csv', 'w+', newline ='') \n",
        "  \n",
        "# writing the data into the file \n",
        "with file:     \n",
        "    write = csv.writer(file) \n",
        "    write.writerows(cordinates)"
      ],
      "execution_count": null,
      "outputs": [
        {
          "output_type": "stream",
          "text": [
            "573409\n"
          ],
          "name": "stdout"
        }
      ]
    },
    {
      "cell_type": "code",
      "metadata": {
        "id": "_gJb33Ng02kI"
      },
      "source": [
        ""
      ],
      "execution_count": null,
      "outputs": []
    }
  ]
}