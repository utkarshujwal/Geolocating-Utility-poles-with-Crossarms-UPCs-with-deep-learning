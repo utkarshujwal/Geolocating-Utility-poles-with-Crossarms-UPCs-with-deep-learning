{
  "nbformat": 4,
  "nbformat_minor": 0,
  "metadata": {
    "colab": {
      "name": "Keras-imagenet",
      "provenance": [],
      "collapsed_sections": [],
      "toc_visible": true
    },
    "kernelspec": {
      "name": "python3",
      "display_name": "Python 3"
    },
    "language_info": {
      "name": "python"
    }
  },
  "cells": [
    {
      "cell_type": "code",
      "metadata": {
        "colab": {
          "base_uri": "https://localhost:8080/"
        },
        "id": "p62gEHsPzeIM",
        "outputId": "d4195903-886f-45ed-9255-262a076ed565"
      },
      "source": [
        "from google.colab import drive\n",
        "drive.mount('/content/drive')"
      ],
      "execution_count": null,
      "outputs": [
        {
          "output_type": "stream",
          "text": [
            "Drive already mounted at /content/drive; to attempt to forcibly remount, call drive.mount(\"/content/drive\", force_remount=True).\n"
          ],
          "name": "stdout"
        }
      ]
    },
    {
      "cell_type": "code",
      "metadata": {
        "id": "n9ghAX-Pqrg4"
      },
      "source": [
        "\"\"\"\n",
        "Loading necessary libraries and model\n",
        "\"\"\"\n",
        "from tensorflow.keras.applications.resnet50 import ResNet50\n",
        "from tensorflow.keras.preprocessing import image\n",
        "from tensorflow.keras.applications.resnet50 import preprocess_input, decode_predictions\n",
        "import numpy as np\n",
        "import os \n",
        "import seaborn as sns \n",
        "import matplotlib.pyplot as plt\n",
        "import warnings\n",
        "warnings.filterwarnings(\"ignore\")\n",
        "model = ResNet50(weights='imagenet')"
      ],
      "execution_count": null,
      "outputs": []
    },
    {
      "cell_type": "code",
      "metadata": {
        "id": "a5XGP33ihDEa"
      },
      "source": [
        "data_dir = '/content/drive/Shareddrives/ComED Codes and Data/Keras /temp_data/'\n",
        "class_0 = \"with UPC\"\n",
        "class_1 = \"without UPC\"\n",
        "\n",
        "def get_object_dict(data_dir,class_name, model, top_k):\n",
        "  files_path = data_dir + class_name\n",
        "  files = os.listdir(files_path)\n",
        "\n",
        "  \"\"\" Initialized dictionary for objects associated with images \"\"\" \n",
        "  object_prob_dict = {} \n",
        "\n",
        "  image_objects = {} #initialized to get only image and list of objects associated with it.\n",
        "\n",
        "  for img in files:\n",
        "    img_path = files_path +\"/\"+ img\n",
        "    image_ = image.load_img(img_path, target_size=(224,224))\n",
        "    x = image.img_to_array(image_)\n",
        "    x = np.expand_dims(x, axis=0)\n",
        "    x = preprocess_input(x)\n",
        "\n",
        "    preds = model.predict(x)\n",
        "    # decode the results into a list of tuples (class, description, probability)\n",
        "    # (one such list for each sample in the batch)\n",
        "    # decode_predictions(preds, top=20)[0]\n",
        "\n",
        "    object_prob_dict[img] = decode_predictions(preds, top=top_k)[0]\n",
        "\n",
        "\n",
        "  for key, value in object_prob_dict.items():\n",
        "    temp = [] \n",
        "    for k in value:\n",
        "      # print(k[1])\n",
        "      temp.append(k[1])\n",
        "    image_objects[key] = ', '.join(temp)\n",
        "\n",
        "  return object_prob_dict, image_objects\n",
        "\n"
      ],
      "execution_count": null,
      "outputs": []
    },
    {
      "cell_type": "code",
      "metadata": {
        "id": "XyBjw-xEmCnT"
      },
      "source": [
        "UPC_object_prob, UPC_objects = get_object_dict(data_dir,class_0,model,10)\n",
        "\n",
        "w_o_UPC_prob, w_o_UPC_objects = get_object_dict(data_dir,class_1,model,10)"
      ],
      "execution_count": null,
      "outputs": []
    },
    {
      "cell_type": "code",
      "metadata": {
        "colab": {
          "base_uri": "https://localhost:8080/"
        },
        "id": "wkvojvfjmEUx",
        "outputId": "5269e3b3-03a4-4a17-c67d-552b7bf98831"
      },
      "source": [
        "# Sanity check with out UPC in them \n",
        "w_o_UPC_objects"
      ],
      "execution_count": null,
      "outputs": [
        {
          "output_type": "execute_result",
          "data": {
            "text/plain": [
              "{'gsv_326.jpg': 'mobile_home, freight_car, mailbox, pole, moving_van, passenger_car, prison, trailer_truck, traffic_light, shopping_cart',\n",
              " 'gsv_327.jpg': 'passenger_car, freight_car, streetcar, trailer_truck, steam_locomotive, alp, chainlink_fence, mailbox, car_mirror, electric_locomotive',\n",
              " 'gsv_344.jpg': 'limousine, beach_wagon, pickup, cab, minivan, convertible, tow_truck, police_van, ambulance, car_wheel',\n",
              " 'gsv_345.jpg': 'limousine, passenger_car, convertible, beach_wagon, trailer_truck, sports_car, minivan, car_wheel, cab, minibus',\n",
              " 'gsv_346.jpg': 'convertible, limousine, beach_wagon, sports_car, minivan, golfcart, car_wheel, cab, jeep, grille',\n",
              " 'gsv_347.jpg': 'minivan, beach_wagon, jeep, convertible, mobile_home, limousine, recreational_vehicle, motor_scooter, golfcart, tow_truck',\n",
              " 'gsv_348.jpg': 'limousine, passenger_car, beach_wagon, minivan, cab, convertible, minibus, sports_car, mobile_home, freight_car',\n",
              " 'gsv_349.jpg': 'beach_wagon, convertible, limousine, passenger_car, grille, pickup, car_wheel, minivan, jeep, amphibian',\n",
              " 'gsv_350.jpg': 'minivan, beach_wagon, limousine, recreational_vehicle, minibus, jeep, tow_truck, convertible, moving_van, police_van',\n",
              " 'gsv_351.jpg': 'jeep, minivan, beach_wagon, pickup, recreational_vehicle, limousine, convertible, tow_truck, minibus, ambulance',\n",
              " 'gsv_352.jpg': 'limousine, beach_wagon, pickup, cab, minivan, convertible, tow_truck, police_van, ambulance, car_wheel',\n",
              " 'gsv_353.jpg': 'limousine, passenger_car, convertible, beach_wagon, trailer_truck, sports_car, minivan, car_wheel, cab, minibus',\n",
              " 'gsv_354.jpg': 'convertible, limousine, beach_wagon, sports_car, minivan, golfcart, car_wheel, cab, jeep, grille',\n",
              " 'gsv_355.jpg': 'minivan, beach_wagon, jeep, convertible, mobile_home, limousine, recreational_vehicle, motor_scooter, golfcart, tow_truck',\n",
              " 'gsv_356.jpg': 'limousine, passenger_car, beach_wagon, minivan, cab, convertible, minibus, sports_car, mobile_home, freight_car'}"
            ]
          },
          "metadata": {
            "tags": []
          },
          "execution_count": 133
        }
      ]
    },
    {
      "cell_type": "code",
      "metadata": {
        "colab": {
          "base_uri": "https://localhost:8080/"
        },
        "id": "iRE06gpilPpN",
        "outputId": "e4d38364-227b-4eb7-fe71-2474e8d5895c"
      },
      "source": [
        "UPC_objects "
      ],
      "execution_count": null,
      "outputs": [
        {
          "output_type": "execute_result",
          "data": {
            "text/plain": [
              "{'Copy of gsv_0.jpg': 'fountain, stupa, fireboat, chainlink_fence, quill, greenhouse, alp, radio_telescope, lakeside, brass',\n",
              " 'Copy of gsv_1.jpg': 'fountain, recreational_vehicle, mobile_home, chainlink_fence, stupa, radio_telescope, fireboat, picket_fence, balloon, trailer_truck',\n",
              " 'Copy of gsv_3.jpg': 'alp, stupa, trolleybus, car_mirror, thatch, church, picket_fence, pole, volcano, valley',\n",
              " 'Copy of gsv_4.jpg': 'crane, prison, stupa, pole, trolleybus, streetcar, solar_dish, alp, cab, chainlink_fence',\n",
              " 'Copy of gsv_5.jpg': 'alp, stupa, prison, suspension_bridge, trolleybus, castle, solar_dish, pole, streetcar, car_mirror',\n",
              " 'gsv_331.jpg': 'prison, shopping_cart, chainlink_fence, crane, pay-phone, pier, passenger_car, turnstile, bullet_train, peacock',\n",
              " 'gsv_332.jpg': 'prison, ashcan, shopping_cart, library, cinema, police_van, moving_van, minivan, cab, trolleybus',\n",
              " 'gsv_333.jpg': 'prison, moving_van, trolleybus, library, crane, pole, streetcar, street_sign, cinema, manhole_cover',\n",
              " 'gsv_334.jpg': 'prison, parking_meter, streetcar, police_van, chainlink_fence, moving_van, trolleybus, cab, traffic_light, electric_locomotive',\n",
              " 'gsv_335.jpg': 'prison, crane, passenger_car, trolleybus, solar_dish, ashcan, parking_meter, cab, streetcar, minibus',\n",
              " 'gsv_339.jpg': 'freight_car, prison, steam_locomotive, passenger_car, greenhouse, barn, electric_locomotive, streetcar, mobile_home, viaduct',\n",
              " 'gsv_340.jpg': 'pole, mobile_home, greenhouse, patio, worm_fence, prison, street_sign, gas_pump, barn, picket_fence',\n",
              " 'gsv_341.jpg': 'freight_car, prison, chainlink_fence, mailbox, pole, street_sign, streetcar, trolleybus, worm_fence, crate',\n",
              " 'gsv_342.jpg': 'prison, chainlink_fence, freight_car, patio, steam_locomotive, turnstile, worm_fence, streetcar, crate, pier',\n",
              " 'gsv_343.jpg': 'prison, chainlink_fence, freight_car, electric_locomotive, mobile_home, passenger_car, moving_van, shopping_cart, streetcar, greenhouse',\n",
              " 'gsv_364.jpg': 'prison, chainlink_fence, tile_roof, vault, viaduct, monastery, electric_locomotive, barn, steam_locomotive, greenhouse',\n",
              " 'gsv_365.jpg': 'chainlink_fence, worm_fence, suspension_bridge, greenhouse, prison, stupa, thatch, picket_fence, tile_roof, barn',\n",
              " 'gsv_376.jpg': 'radio_telescope, solar_dish, chainlink_fence, trolleybus, crane, streetcar, spider_web, planetarium, window_screen, greenhouse',\n",
              " 'gsv_377.jpg': 'streetcar, trolleybus, fire_engine, chainlink_fence, minivan, electric_locomotive, radio_telescope, suspension_bridge, recreational_vehicle, crane',\n",
              " 'gsv_380.jpg': 'prison, chainlink_fence, fire_engine, window_screen, moving_van, cinema, freight_car, shopping_cart, church, patio',\n",
              " 'gsv_387.jpg': 'solar_dish, wing, patio, screen, bullet_train, submarine, dam, mountain_tent, alp, radio_telescope',\n",
              " 'gsv_388.jpg': 'pole, solar_dish, prison, barbershop, guillotine, pier, pay-phone, moving_van, stupa, streetcar',\n",
              " 'gsv_389.jpg': 'pole, prison, mobile_home, patio, stupa, cinema, gas_pump, flagpole, street_sign, mosque',\n",
              " 'gsv_391.jpg': 'stupa, alp, solar_dish, prison, pole, submarine, mosque, crane, bullet_train, dock',\n",
              " 'gsv_557.jpg': 'maze, leatherback_turtle, valley, sandbar, lakeside, manhole_cover, mud_turtle, seashore, park_bench, alp',\n",
              " 'gsv_560.jpg': 'flagpole, beacon, pole, obelisk, water_tower, street_sign, missile, crane, pedestal, solar_dish',\n",
              " 'gsv_561.jpg': 'water_tower, pole, beacon, flagpole, parking_meter, lakeside, airship, mailbox, picket_fence, sandbar',\n",
              " 'gsv_563.jpg': 'water_tower, missile, projectile, flagpole, sundial, pedestal, beacon, trailer_truck, submarine, crane',\n",
              " 'gsv_564.jpg': 'mobile_home, moving_van, trailer_truck, recreational_vehicle, patio, crane, garbage_truck, crate, forklift, shopping_cart',\n",
              " 'gsv_593.jpg': 'seashore, alp, racer, sandbar, trailer_truck, car_wheel, minivan, lakeside, breakwater, sports_car',\n",
              " 'gsv_594.jpg': 'garbage_truck, trailer_truck, moving_van, moped, lawn_mower, motor_scooter, shopping_cart, crane, minibus, freight_car',\n",
              " 'gsv_600.jpg': 'minivan, moving_van, police_van, cab, trailer_truck, limousine, minibus, tow_truck, recreational_vehicle, parking_meter',\n",
              " 'gsv_601.jpg': 'trailer_truck, moving_van, minivan, cab, racer, garbage_truck, tow_truck, trolleybus, snowplow, recreational_vehicle',\n",
              " 'gsv_604.jpg': 'limousine, beach_wagon, minivan, moving_van, convertible, trailer_truck, recreational_vehicle, grille, car_wheel, pickup',\n",
              " 'test.jpg': 'dam, pier, prison, lumbermill, picket_fence, suspension_bridge, boathouse, stupa, thatch, pole'}"
            ]
          },
          "metadata": {
            "tags": []
          },
          "execution_count": 134
        }
      ]
    },
    {
      "cell_type": "code",
      "metadata": {
        "colab": {
          "base_uri": "https://localhost:8080/"
        },
        "id": "pHyXnv_0pCf2",
        "outputId": "a47657b4-5bb0-4a58-d846-0870f0d69d82"
      },
      "source": [
        "w_o_UPC_prob['gsv_326.jpg']"
      ],
      "execution_count": null,
      "outputs": [
        {
          "output_type": "execute_result",
          "data": {
            "text/plain": [
              "[('n03776460', 'mobile_home', 0.3027599),\n",
              " ('n03393912', 'freight_car', 0.24086612),\n",
              " ('n03710193', 'mailbox', 0.041237213),\n",
              " ('n03976657', 'pole', 0.040445708),\n",
              " ('n03796401', 'moving_van', 0.034968276),\n",
              " ('n03895866', 'passenger_car', 0.025672987),\n",
              " ('n04005630', 'prison', 0.020050941),\n",
              " ('n04467665', 'trailer_truck', 0.018532526),\n",
              " ('n06874185', 'traffic_light', 0.018263571),\n",
              " ('n04204347', 'shopping_cart', 0.016397228)]"
            ]
          },
          "metadata": {
            "tags": []
          },
          "execution_count": 141
        }
      ]
    },
    {
      "cell_type": "code",
      "metadata": {
        "colab": {
          "base_uri": "https://localhost:8080/"
        },
        "id": "fw9j42NGpOdf",
        "outputId": "af805335-684b-4160-80aa-e598b17ecbd5"
      },
      "source": [
        "UPC_object_prob['Copy of gsv_5.jpg']"
      ],
      "execution_count": null,
      "outputs": [
        {
          "output_type": "execute_result",
          "data": {
            "text/plain": [
              "[('n09193705', 'alp', 0.47941482),\n",
              " ('n04346328', 'stupa', 0.38661918),\n",
              " ('n04005630', 'prison', 0.032378636),\n",
              " ('n04366367', 'suspension_bridge', 0.00759903),\n",
              " ('n04487081', 'trolleybus', 0.0068916073),\n",
              " ('n02980441', 'castle', 0.0061827246),\n",
              " ('n04258138', 'solar_dish', 0.00592345),\n",
              " ('n03976657', 'pole', 0.0059195193),\n",
              " ('n04335435', 'streetcar', 0.005076583),\n",
              " ('n02965783', 'car_mirror', 0.004649245)]"
            ]
          },
          "metadata": {
            "tags": []
          },
          "execution_count": 142
        }
      ]
    },
    {
      "cell_type": "code",
      "metadata": {
        "id": "fd4LIx-npiT-"
      },
      "source": [
        ""
      ],
      "execution_count": null,
      "outputs": []
    },
    {
      "cell_type": "code",
      "metadata": {
        "id": "IoKAsj_Rn0dE"
      },
      "source": [
        "\"\"\"\n",
        "Function to calculate the jaccard similarity for image x image \n",
        "\"\"\"\n",
        "\n",
        "def jaccard(image1_objs, image2_objs):\n",
        "  list1, list2 = image1_objs.split(\",\"),image2_objs.split(\",\")\n",
        "  intersection = len(list(set(list1).intersection(list2)))\n",
        "  union = (len(list1) + len(list2)) - intersection\n",
        "  return float(intersection) / union"
      ],
      "execution_count": null,
      "outputs": []
    },
    {
      "cell_type": "code",
      "metadata": {
        "id": "cbprj3a0oA7U"
      },
      "source": [
        "def get_similarities(img_obj_dict_1, img_obj_dict_2):\n",
        "  similarity_measure = []\n",
        "  for key_1 in img_obj_dict_1.keys():\n",
        "    for key_2 in img_obj_dict_2.keys():\n",
        "      if key_1 != key_2:\n",
        "        similarity_measure.append(jaccard(img_obj_dict_1[key_1],img_obj_dict_2[key_2]))\n",
        "\n",
        "  return similarity_measure\n"
      ],
      "execution_count": null,
      "outputs": []
    },
    {
      "cell_type": "code",
      "metadata": {
        "id": "CA1sX0pMsMeh"
      },
      "source": [
        "UPC_similarity = get_similarities(UPC_objects,UPC_objects)\n",
        "non_UPC_similarity = get_similarities(w_o_UPC_objects ,w_o_UPC_objects)\n",
        "UPC_non_UPC = get_similarities(w_o_UPC_objects , UPC_objects)"
      ],
      "execution_count": null,
      "outputs": []
    },
    {
      "cell_type": "code",
      "metadata": {
        "id": "W5XCkqFI9pH2"
      },
      "source": [
        "# saving list objects in json format \n",
        "\n",
        "final_json = {} \n",
        "final_json['UPC_similarity'] = UPC_similarity\n",
        "final_json['non_UPC_similarity'] = non_UPC_similarity\n",
        "final_json['UPC_non_UPC'] = UPC_non_UPC \n",
        "# final_json.keys()"
      ],
      "execution_count": null,
      "outputs": []
    },
    {
      "cell_type": "code",
      "metadata": {
        "colab": {
          "base_uri": "https://localhost:8080/"
        },
        "id": "TV1aEXX3lVGR",
        "outputId": "fe2ac770-643e-4af9-caeb-6e86657f50f6"
      },
      "source": [
        "# stats \n",
        "import statistics \n",
        "x= UPC_similarity\n",
        "print(\"With UPC image has max = {:2f}, Std Dev = {:2f}, mean = {:2f}\".format(max(x),statistics.pstdev(x),statistics.mean(x)))\n",
        "\n",
        "x = non_UPC_similarity\n",
        "print(\"Without UPC image has max = {:2f}, Std Dev = {:2f}, mean = {:2f}\".format(max(x),statistics.pstdev(x),statistics.mean(x)))\n",
        "\n",
        "x = UPC_non_UPC \n",
        "print(\"UPC and non UPC image has max = {:2f}, Std Dev = {:2f}, mean = {:2f}\".format(max(x),statistics.pstdev(x),statistics.mean(x)))"
      ],
      "execution_count": null,
      "outputs": [
        {
          "output_type": "stream",
          "text": [
            "With UPC image has max = 0.428571, Std Dev = 0.080705, mean = 0.071946\n",
            "Without UPC image has max = 1.000000, Std Dev = 0.228575, mean = 0.253149\n",
            "UPC and non UPC image has max = 0.538462, Std Dev = 0.075381, mean = 0.045193\n"
          ],
          "name": "stdout"
        }
      ]
    },
    {
      "cell_type": "markdown",
      "metadata": {
        "id": "oLXOs9bA0ML8"
      },
      "source": [
        "# Need to find a way to plot on the same plot with thise 3 distributions"
      ]
    },
    {
      "cell_type": "code",
      "metadata": {
        "colab": {
          "base_uri": "https://localhost:8080/",
          "height": 549
        },
        "id": "FAzFUKteugCD",
        "outputId": "f3bab100-9c91-48ee-fa6e-2cb55ac30764"
      },
      "source": [
        "plt.figure(figsize=(20,10))\n",
        "\n",
        "sns.distplot(UPC_similarity,kde=True, hist=False, label=\"UPC Similarity\",color='red')\n",
        "sns.distplot(non_UPC_similarity,kde=True, hist=False, label=\"Non_UPC similarity\",color='blue')\n",
        "sns.distplot(UPC_non_UPC,kde=True, hist=False, label=\"UPC and non UPC\",color='black')\n",
        "\n",
        "plt.title(\"Similarity measure distribution\")\n",
        "plt.legend(prop={'size': 16})"
      ],
      "execution_count": null,
      "outputs": [
        {
          "output_type": "execute_result",
          "data": {
            "text/plain": [
              "<matplotlib.legend.Legend at 0x7fb43c471490>"
            ]
          },
          "metadata": {
            "tags": []
          },
          "execution_count": 140
        },
        {
          "output_type": "display_data",
          "data": {
            "image/png": "[encoded data removed]",
            "text/plain": [
              "<Figure size 1440x720 with 1 Axes>"
            ]
          },
          "metadata": {
            "tags": [],
            "needs_background": "light"
          }
        }
      ]
    },
    {
      "cell_type": "code",
      "metadata": {
        "id": "R6I4zTfSkXTb"
      },
      "source": [
        ""
      ],
      "execution_count": null,
      "outputs": []
    }
  ]
}