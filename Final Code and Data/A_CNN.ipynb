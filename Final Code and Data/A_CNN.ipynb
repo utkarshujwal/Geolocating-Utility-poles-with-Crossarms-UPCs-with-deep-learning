{
  "nbformat": 4,
  "nbformat_minor": 0,
  "metadata": {
    "colab": {
      "name": "A-CNN.ipynb",
      "provenance": []
    },
    "kernelspec": {
      "name": "python3",
      "display_name": "Python 3"
    },
    "language_info": {
      "name": "python"
    },
    "accelerator": "GPU"
  },
  "cells": [
    {
      "cell_type": "code",
      "metadata": {
        "colab": {
          "base_uri": "https://localhost:8080/"
        },
        "id": "uJABTNEbE1d_",
        "outputId": "33ca42d9-103c-43d1-e405-273cd48ea4fb"
      },
      "source": [
        "from google.colab import drive\n",
        "drive.mount('/content/gdrive')\n",
        "\n",
        "import os"
      ],
      "execution_count": null,
      "outputs": [
        {
          "output_type": "stream",
          "text": [
            "Drive already mounted at /content/gdrive; to attempt to forcibly remount, call drive.mount(\"/content/gdrive\", force_remount=True).\n"
          ],
          "name": "stdout"
        }
      ]
    },
    {
      "cell_type": "code",
      "metadata": {
        "colab": {
          "base_uri": "https://localhost:8080/"
        },
        "id": "FfqUgpHGFI-q",
        "outputId": "a3fcee8b-03b0-4b01-c75d-ff55cdd1b3eb"
      },
      "source": [
        "import tensorflow as tf\n",
        "from tensorflow import keras\n",
        "from tensorflow.keras import layers\n",
        "\n",
        "import matplotlib.pyplot as plt\n",
        "from torch.utils.data import Dataset, random_split, DataLoader\n",
        "print(tf.__version__)"
      ],
      "execution_count": null,
      "outputs": [
        {
          "output_type": "stream",
          "text": [
            "2.4.1\n"
          ],
          "name": "stdout"
        }
      ]
    },
    {
      "cell_type": "code",
      "metadata": {
        "colab": {
          "base_uri": "https://localhost:8080/"
        },
        "id": "rX78WGVxFRI7",
        "outputId": "a50582e2-2133-41dc-fd62-aeebaa0d3b9c"
      },
      "source": [
        "from keras.preprocessing.image import ImageDataGenerator\n",
        "\n",
        "train_datagen = ImageDataGenerator()\n",
        "\n",
        "train_generator = train_datagen.flow_from_directory('/content/gdrive/Shareddrives/ComED Codes and Data/Dataset/Train',\n",
        "                                                   target_size=(224,224),\n",
        "                                                   batch_size=32,\n",
        "                                                   class_mode='binary',\n",
        "                                                    seed =1337)\n",
        "validation_generator = train_datagen.flow_from_directory('/content/gdrive/Shareddrives/ComED Codes and Data/Dataset/Validation',\n",
        "                                                       target_size=(224,224),\n",
        "                                                       batch_size=32,\n",
        "                                                       class_mode='binary',seed=1337)\n"
      ],
      "execution_count": null,
      "outputs": [
        {
          "output_type": "stream",
          "text": [
            "Found 774 images belonging to 2 classes.\n",
            "Found 99 images belonging to 2 classes.\n"
          ],
          "name": "stdout"
        }
      ]
    },
    {
      "cell_type": "code",
      "metadata": {
        "id": "U-fH2NnRIbYA"
      },
      "source": [
        "from keras import backend as K\n",
        "\n",
        "def recall_m(y_true, y_pred):\n",
        "    true_positives = K.sum(K.round(K.clip(y_true * y_pred, 0, 1)))\n",
        "    possible_positives = K.sum(K.round(K.clip(y_true, 0, 1)))\n",
        "    recall = true_positives / (possible_positives + K.epsilon())\n",
        "    return recall\n",
        "\n",
        "def precision_m(y_true, y_pred):\n",
        "    true_positives = K.sum(K.round(K.clip(y_true * y_pred, 0, 1)))\n",
        "    predicted_positives = K.sum(K.round(K.clip(y_pred, 0, 1)))\n",
        "    precision = true_positives / (predicted_positives + K.epsilon())\n",
        "    return precision\n",
        "\n",
        "def f1_m(y_true, y_pred):\n",
        "    precision = precision_m(y_true, y_pred)\n",
        "    recall = recall_m(y_true, y_pred)\n",
        "    return 2*((precision*recall)/(precision+recall+K.epsilon()))"
      ],
      "execution_count": null,
      "outputs": []
    },
    {
      "cell_type": "code",
      "metadata": {
        "id": "TCO6xzlKIiEe"
      },
      "source": [
        "from keras import layers\n",
        "from keras import models\n",
        "from keras import optimizers\n",
        "\n",
        "def model_Sequential():\n",
        "  model = models.Sequential()\n",
        "  model.add(layers.Conv2D(32,(3,3),activation='relu',input_shape=(224,224,3)))\n",
        "  model.add(layers.MaxPool2D((2,2)))\n",
        "  model.add(layers.Conv2D(64,(3,3),activation='relu'))\n",
        "  model.add(layers.MaxPool2D((2,2)))\n",
        "  model.add(layers.Conv2D(128,(3,3),activation='relu'))\n",
        "  model.add(layers.MaxPool2D((2,2)))\n",
        "  model.add(layers.Conv2D(128,(3,3),activation='relu'))\n",
        "  model.add(layers.MaxPool2D((2,2)))\n",
        "  model.add(layers.Flatten())\n",
        "  model.add(layers.Dropout(0.5))\n",
        "  model.add(layers.Dense(512,activation='relu'))\n",
        "  model.add(layers.Dense(1,activation='sigmoid'))\n",
        "  model.compile(loss='binary_crossentropy',\n",
        "                optimizer=optimizers.RMSprop(lr=1e-4),\n",
        "              metrics=[\"accuracy\",f1_m,precision_m, recall_m])\n",
        "  return model"
      ],
      "execution_count": null,
      "outputs": []
    },
    {
      "cell_type": "code",
      "metadata": {
        "id": "YCrEhjPGIYkY"
      },
      "source": [
        "model = model_Sequential()"
      ],
      "execution_count": null,
      "outputs": []
    },
    {
      "cell_type": "code",
      "metadata": {
        "colab": {
          "base_uri": "https://localhost:8080/"
        },
        "id": "OajswSqkGEl2",
        "outputId": "4108b740-ca5f-43c7-cddf-97c1e7a3cde3"
      },
      "source": [
        "callbacked = [keras.callbacks.ModelCheckpoint(\"/content/gdrive/Shareddrives/ComED Codes and Data/model_weights/CNN_{epoch}.h5\")]\n",
        "history = model.fit_generator(train_generator,\n",
        "                             steps_per_epoch=25,\n",
        "                             epochs=25,\n",
        "                             validation_data = validation_generator,\n",
        "                              callbacks = callbacked)"
      ],
      "execution_count": null,
      "outputs": [
        {
          "output_type": "stream",
          "text": [
            "/usr/local/lib/python3.7/dist-packages/tensorflow/python/keras/engine/training.py:1844: UserWarning: `Model.fit_generator` is deprecated and will be removed in a future version. Please use `Model.fit`, which supports generators.\n",
            "  warnings.warn('`Model.fit_generator` is deprecated and '\n"
          ],
          "name": "stderr"
        },
        {
          "output_type": "stream",
          "text": [
            "Epoch 1/25\n",
            "25/25 [==============================] - 9s 287ms/step - loss: 44.2937 - accuracy: 0.6302 - f1_m: 0.1198 - precision_m: 0.1041 - recall_m: 0.2912 - val_loss: 0.9749 - val_accuracy: 0.5152 - val_f1_m: 0.4517 - val_precision_m: 0.3269 - val_recall_m: 0.7756\n",
            "Epoch 2/25\n",
            "25/25 [==============================] - 7s 265ms/step - loss: 1.7167 - accuracy: 0.7014 - f1_m: 0.3191 - precision_m: 0.3090 - recall_m: 0.4510 - val_loss: 0.8859 - val_accuracy: 0.5152 - val_f1_m: 0.4919 - val_precision_m: 0.3304 - val_recall_m: 0.9688\n",
            "Epoch 3/25\n",
            "25/25 [==============================] - 7s 264ms/step - loss: 0.7189 - accuracy: 0.7447 - f1_m: 0.3501 - precision_m: 0.3844 - recall_m: 0.4469 - val_loss: 0.5528 - val_accuracy: 0.7374 - val_f1_m: 0.6549 - val_precision_m: 0.5865 - val_recall_m: 0.7750\n",
            "Epoch 4/25\n",
            "25/25 [==============================] - 6s 257ms/step - loss: 0.5343 - accuracy: 0.7949 - f1_m: 0.4276 - precision_m: 0.7121 - recall_m: 0.4421 - val_loss: 0.6431 - val_accuracy: 0.6667 - val_f1_m: 0.5702 - val_precision_m: 0.4266 - val_recall_m: 0.8889\n",
            "Epoch 5/25\n",
            "25/25 [==============================] - 7s 269ms/step - loss: 0.6061 - accuracy: 0.8025 - f1_m: 0.4438 - precision_m: 0.5704 - recall_m: 0.4819 - val_loss: 0.5288 - val_accuracy: 0.7576 - val_f1_m: 0.0000e+00 - val_precision_m: 0.0000e+00 - val_recall_m: 0.0000e+00\n",
            "Epoch 6/25\n",
            "25/25 [==============================] - 7s 265ms/step - loss: 0.3685 - accuracy: 0.8442 - f1_m: 0.5385 - precision_m: 0.7574 - recall_m: 0.5084 - val_loss: 0.4535 - val_accuracy: 0.8384 - val_f1_m: 0.5417 - val_precision_m: 0.4989 - val_recall_m: 0.6036\n",
            "Epoch 7/25\n",
            "25/25 [==============================] - 7s 274ms/step - loss: 0.3957 - accuracy: 0.8463 - f1_m: 0.6321 - precision_m: 0.8035 - recall_m: 0.5820 - val_loss: 0.4951 - val_accuracy: 0.7677 - val_f1_m: 0.6174 - val_precision_m: 0.5952 - val_recall_m: 0.6493\n",
            "Epoch 8/25\n",
            "25/25 [==============================] - 7s 263ms/step - loss: 0.2865 - accuracy: 0.8798 - f1_m: 0.6475 - precision_m: 0.7824 - recall_m: 0.6122 - val_loss: 1.2016 - val_accuracy: 0.4141 - val_f1_m: 0.3267 - val_precision_m: 0.2189 - val_recall_m: 0.7045\n",
            "Epoch 9/25\n",
            "25/25 [==============================] - 7s 275ms/step - loss: 0.2797 - accuracy: 0.8997 - f1_m: 0.7394 - precision_m: 0.8614 - recall_m: 0.7215 - val_loss: 0.4563 - val_accuracy: 0.8384 - val_f1_m: 0.5187 - val_precision_m: 0.5417 - val_recall_m: 0.5556\n",
            "Epoch 10/25\n",
            "25/25 [==============================] - 7s 266ms/step - loss: 0.1907 - accuracy: 0.9302 - f1_m: 0.8198 - precision_m: 0.9412 - recall_m: 0.7687 - val_loss: 2.0706 - val_accuracy: 0.7576 - val_f1_m: 0.0000e+00 - val_precision_m: 0.0000e+00 - val_recall_m: 0.0000e+00\n",
            "Epoch 11/25\n",
            "25/25 [==============================] - 7s 271ms/step - loss: 0.4326 - accuracy: 0.8934 - f1_m: 0.6665 - precision_m: 0.7823 - recall_m: 0.6418 - val_loss: 0.6773 - val_accuracy: 0.6566 - val_f1_m: 0.4125 - val_precision_m: 0.3104 - val_recall_m: 0.6250\n",
            "Epoch 12/25\n",
            "25/25 [==============================] - 7s 260ms/step - loss: 0.1568 - accuracy: 0.9453 - f1_m: 0.8610 - precision_m: 0.9578 - recall_m: 0.8256 - val_loss: 0.6610 - val_accuracy: 0.8081 - val_f1_m: 0.4306 - val_precision_m: 0.7500 - val_recall_m: 0.3646\n",
            "Epoch 13/25\n",
            "25/25 [==============================] - 7s 269ms/step - loss: 0.2520 - accuracy: 0.9244 - f1_m: 0.8282 - precision_m: 0.9188 - recall_m: 0.8163 - val_loss: 0.5371 - val_accuracy: 0.8283 - val_f1_m: 0.4829 - val_precision_m: 0.4893 - val_recall_m: 0.4792\n",
            "Epoch 14/25\n",
            "25/25 [==============================] - 7s 265ms/step - loss: 0.1124 - accuracy: 0.9659 - f1_m: 0.8620 - precision_m: 0.8985 - recall_m: 0.8508 - val_loss: 0.6090 - val_accuracy: 0.8485 - val_f1_m: 0.4394 - val_precision_m: 0.6583 - val_recall_m: 0.3611\n",
            "Epoch 15/25\n",
            "25/25 [==============================] - 7s 272ms/step - loss: 0.3896 - accuracy: 0.9179 - f1_m: 0.7304 - precision_m: 0.8509 - recall_m: 0.7212 - val_loss: 0.6939 - val_accuracy: 0.8081 - val_f1_m: 0.4509 - val_precision_m: 0.4688 - val_recall_m: 0.4924\n",
            "Epoch 16/25\n",
            "25/25 [==============================] - 7s 264ms/step - loss: 0.1169 - accuracy: 0.9675 - f1_m: 0.9126 - precision_m: 0.9741 - recall_m: 0.8743 - val_loss: 0.6785 - val_accuracy: 0.8283 - val_f1_m: 0.4872 - val_precision_m: 0.5000 - val_recall_m: 0.4913\n",
            "Epoch 17/25\n",
            "25/25 [==============================] - 7s 266ms/step - loss: 0.1535 - accuracy: 0.9588 - f1_m: 0.8559 - precision_m: 0.9429 - recall_m: 0.8439 - val_loss: 0.5943 - val_accuracy: 0.8182 - val_f1_m: 0.7094 - val_precision_m: 0.7098 - val_recall_m: 0.7312\n",
            "Epoch 18/25\n",
            "25/25 [==============================] - 7s 265ms/step - loss: 0.1006 - accuracy: 0.9668 - f1_m: 0.8938 - precision_m: 0.9179 - recall_m: 0.8938 - val_loss: 0.5711 - val_accuracy: 0.8485 - val_f1_m: 0.4845 - val_precision_m: 0.5354 - val_recall_m: 0.4583\n",
            "Epoch 19/25\n",
            "25/25 [==============================] - 7s 272ms/step - loss: 0.0772 - accuracy: 0.9834 - f1_m: 0.9486 - precision_m: 0.9631 - recall_m: 0.9425 - val_loss: 0.6172 - val_accuracy: 0.8384 - val_f1_m: 0.4455 - val_precision_m: 0.6042 - val_recall_m: 0.3715\n",
            "Epoch 20/25\n",
            "25/25 [==============================] - 7s 263ms/step - loss: 0.0736 - accuracy: 0.9607 - f1_m: 0.9203 - precision_m: 0.9545 - recall_m: 0.9141 - val_loss: 0.6725 - val_accuracy: 0.7980 - val_f1_m: 0.6866 - val_precision_m: 0.6786 - val_recall_m: 0.7103\n",
            "Epoch 21/25\n",
            "25/25 [==============================] - 7s 268ms/step - loss: 0.0695 - accuracy: 0.9773 - f1_m: 0.9397 - precision_m: 0.9584 - recall_m: 0.9511 - val_loss: 0.7153 - val_accuracy: 0.7980 - val_f1_m: 0.3817 - val_precision_m: 0.4563 - val_recall_m: 0.3361\n",
            "Epoch 22/25\n",
            "25/25 [==============================] - 7s 267ms/step - loss: 0.0872 - accuracy: 0.9723 - f1_m: 0.9397 - precision_m: 0.9558 - recall_m: 0.9496 - val_loss: 0.6999 - val_accuracy: 0.7980 - val_f1_m: 0.3812 - val_precision_m: 0.4821 - val_recall_m: 0.3393\n",
            "Epoch 23/25\n",
            "25/25 [==============================] - 7s 276ms/step - loss: 0.0676 - accuracy: 0.9764 - f1_m: 0.9471 - precision_m: 0.9865 - recall_m: 0.9318 - val_loss: 0.8515 - val_accuracy: 0.8081 - val_f1_m: 0.3773 - val_precision_m: 0.4688 - val_recall_m: 0.3284\n",
            "Epoch 24/25\n",
            "25/25 [==============================] - 7s 272ms/step - loss: 0.0298 - accuracy: 0.9917 - f1_m: 0.9771 - precision_m: 0.9992 - recall_m: 0.9591 - val_loss: 0.6455 - val_accuracy: 0.8384 - val_f1_m: 0.7288 - val_precision_m: 0.7625 - val_recall_m: 0.7143\n",
            "Epoch 25/25\n",
            "25/25 [==============================] - 7s 263ms/step - loss: 0.1612 - accuracy: 0.9769 - f1_m: 0.9467 - precision_m: 0.9503 - recall_m: 0.9571 - val_loss: 0.7303 - val_accuracy: 0.8182 - val_f1_m: 0.4340 - val_precision_m: 0.5714 - val_recall_m: 0.3548\n"
          ],
          "name": "stdout"
        }
      ]
    },
    {
      "cell_type": "code",
      "metadata": {
        "id": "zh5cL8HLUvaQ"
      },
      "source": [
        "import matplotlib.pyplot as plt\n",
        "\n",
        "def plot_curve(history):\n",
        "    acc = history.history['accuracy']\n",
        "    val_acc = history.history['val_accuracy']\n",
        "    loss = history.history['loss']\n",
        "    val_loss = history.history['val_loss']\n",
        "    \n",
        "    epochs = range(1,len(acc)+1)\n",
        "    \n",
        "    plt.plot(epochs,acc,'-',label='Training acc')\n",
        "    plt.plot(epochs,val_acc,'-',label='Validation acc',color =\"orange\")\n",
        "    plt.title('Training and validation accuracy')\n",
        "    plt.legend()\n",
        "\n",
        "    plt.savefig(\"acc.png\", dpi = 300)\n",
        "    \n",
        "    plt.figure()\n",
        "    plt.plot(epochs,loss,'-',label='Training loss')\n",
        "    plt.plot(epochs,val_loss,'-',label='Validation loss',color =\"orange\")\n",
        "    plt.title('Training and validation loss')\n",
        "    plt.legend()\n",
        "    \n",
        "    plt.savefig(\"loss.png\", dpi = 300)"
      ],
      "execution_count": null,
      "outputs": []
    },
    {
      "cell_type": "code",
      "metadata": {
        "colab": {
          "base_uri": "https://localhost:8080/",
          "height": 545
        },
        "id": "k3S1fKVpFxcE",
        "outputId": "7ad858d9-1981-4488-abaa-7f41a9fe348a"
      },
      "source": [
        "plot_curve(history)"
      ],
      "execution_count": null,
      "outputs": [
        {
          "output_type": "display_data",
          "data": {
            "image/png": "[encoded data removed]",
            "text/plain": [
              "<Figure size 432x288 with 1 Axes>"
            ]
          },
          "metadata": {
            "tags": [],
            "needs_background": "light"
          }
        },
        {
          "output_type": "display_data",
          "data": {
            "image/png": "[encoded data removed]",
            "text/plain": [
              "<Figure size 432x288 with 1 Axes>"
            ]
          },
          "metadata": {
            "tags": [],
            "needs_background": "light"
          }
        }
      ]
    },
    {
      "cell_type": "code",
      "metadata": {
        "id": "b18JP4xPGOR_"
      },
      "source": [
        ""
      ],
      "execution_count": null,
      "outputs": []
    },
    {
      "cell_type": "code",
      "metadata": {
        "id": "YolzxCO6NMq3"
      },
      "source": [
        ""
      ],
      "execution_count": null,
      "outputs": []
    }
  ]
}