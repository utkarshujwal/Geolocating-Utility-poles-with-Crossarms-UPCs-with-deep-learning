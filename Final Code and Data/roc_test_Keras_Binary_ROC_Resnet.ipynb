{
  "nbformat": 4,
  "nbformat_minor": 0,
  "metadata": {
    "accelerator": "GPU",
    "colab": {
      "name": "roc test Keras_Binary_ROC_Resnet.ipynb",
      "provenance": [],
      "collapsed_sections": [],
      "toc_visible": true
    },
    "kernelspec": {
      "display_name": "Python 3",
      "name": "python3"
    },
    "language_info": {
      "name": "python"
    }
  },
  "cells": [
    {
      "cell_type": "code",
      "metadata": {
        "colab": {
          "base_uri": "https://localhost:8080/"
        },
        "id": "hZ14snmKLkJM",
        "outputId": "89ca6b3c-3301-4d5c-e99f-ab34d40a0eea"
      },
      "source": [
        "from google.colab import drive\n",
        "drive.mount('/content/gdrive')\n",
        "\n",
        "import os"
      ],
      "execution_count": null,
      "outputs": [
        {
          "output_type": "stream",
          "text": [
            "Mounted at /content/gdrive\n"
          ],
          "name": "stdout"
        }
      ]
    },
    {
      "cell_type": "code",
      "metadata": {
        "id": "sT9xObikLzpT"
      },
      "source": [
        ""
      ],
      "execution_count": null,
      "outputs": []
    },
    {
      "cell_type": "code",
      "metadata": {
        "colab": {
          "base_uri": "https://localhost:8080/"
        },
        "id": "7Xrx5DaNXZ3d",
        "outputId": "73216614-6660-46cd-ddc8-6eb5cd67954c"
      },
      "source": [
        "import tensorflow as tf\n",
        "from tensorflow import keras\n",
        "from tensorflow.keras import layers\n",
        "\n",
        "import matplotlib.pyplot as plt\n",
        "from torch.utils.data import Dataset, random_split, DataLoader\n",
        "print(tf.__version__)"
      ],
      "execution_count": null,
      "outputs": [
        {
          "output_type": "stream",
          "text": [
            "2.4.1\n"
          ],
          "name": "stdout"
        }
      ]
    },
    {
      "cell_type": "code",
      "metadata": {
        "colab": {
          "base_uri": "https://localhost:8080/"
        },
        "id": "owA_d8wrW-Ph",
        "outputId": "d96f2932-3134-41fd-944c-cf08466f3064"
      },
      "source": [
        "image_size = (224, 224)\n",
        "# image_size = (600, 600)\n",
        "\n",
        "batch_size = 32\n",
        "\n",
        "train_ds = tf.keras.preprocessing.image_dataset_from_directory(\n",
        "    \"/content/gdrive/Shareddrives/ComED Codes and Data/Dataset/Train\",\n",
        "    seed=1337,\n",
        "    label_mode = 'categorical',\n",
        "    image_size=image_size,\n",
        "    batch_size=batch_size,\n",
        "    labels = \"inferred\"\n",
        ")\n",
        "test_ds = tf.keras.preprocessing.image_dataset_from_directory(\n",
        "    \"/content/gdrive/Shareddrives/ComED Codes and Data/Dataset/Test\",\n",
        "    seed=1337,\n",
        "    image_size=image_size\n",
        ")\n",
        "\n",
        "val_ds = tf.keras.preprocessing.image_dataset_from_directory(\n",
        "    \"/content/gdrive/Shareddrives/ComED Codes and Data/Dataset/Validation\",\n",
        "    seed=1337,\n",
        "    label_mode = 'categorical',\n",
        "    image_size=image_size,\n",
        "    batch_size=batch_size,\n",
        "    labels = \"inferred\"\n",
        ")\n",
        "\n",
        "\n"
      ],
      "execution_count": null,
      "outputs": [
        {
          "output_type": "stream",
          "text": [
            "Found 774 files belonging to 2 classes.\n",
            "Found 90 files belonging to 2 classes.\n",
            "Found 99 files belonging to 2 classes.\n"
          ],
          "name": "stdout"
        }
      ]
    },
    {
      "cell_type": "code",
      "metadata": {
        "id": "GyPrMfU9cchl"
      },
      "source": [
        "from keras import backend as K\n",
        "\n",
        "def recall_m(y_true, y_pred):\n",
        "    true_positives = K.sum(K.round(K.clip(y_true * y_pred, 0, 1)))\n",
        "    possible_positives = K.sum(K.round(K.clip(y_true, 0, 1)))\n",
        "    recall = true_positives / (possible_positives + K.epsilon())\n",
        "    return recall\n",
        "\n",
        "def precision_m(y_true, y_pred):\n",
        "    true_positives = K.sum(K.round(K.clip(y_true * y_pred, 0, 1)))\n",
        "    predicted_positives = K.sum(K.round(K.clip(y_pred, 0, 1)))\n",
        "    precision = true_positives / (predicted_positives + K.epsilon())\n",
        "    return precision\n",
        "\n",
        "def f1_m(y_true, y_pred):\n",
        "    precision = precision_m(y_true, y_pred)\n",
        "    recall = recall_m(y_true, y_pred)\n",
        "    return 2*((precision*recall)/(precision+recall+K.epsilon()))"
      ],
      "execution_count": null,
      "outputs": []
    },
    {
      "cell_type": "code",
      "metadata": {
        "id": "a9yBMmuIbAbR"
      },
      "source": [
        "def resnet_model(input_shape, num_classes):\n",
        "    # inputs = keras.Input(shape=input_shape)\n",
        "    # Image augmentation block\n",
        "    # x = data_augmentation(inputs)\n",
        "    base_model = keras.applications.ResNet50(weights='imagenet', input_shape=input_shape)\n",
        "    out_resnet = base_model.output\n",
        "    res = layers.Dropout(0.5)(out_resnet)\n",
        "    output = layers.Dense(num_classes, activation='sigmoid', name='sigmoid')(res)\n",
        "    net_final = keras.Model(inputs=base_model.input, outputs=output)\n",
        "\n",
        "    return net_final\n",
        "\n",
        "resnet_model = resnet_model(input_shape=image_size + (3,), num_classes=2)\n",
        "resnet_model.compile(\n",
        "    optimizer=keras.optimizers.RMSprop(lr=1e-4),\n",
        "    loss=\"binary_crossentropy\",\n",
        "    metrics=[\"accuracy\",f1_m,precision_m, recall_m]\n",
        ")\n",
        "# resnet_model.summary()\n",
        "\n",
        "callbacked = [keras.callbacks.ModelCheckpoint(\"/content/gdrive/Shareddrives/ComED Codes and Data/model_weights/resnet_{epoch}.h5\")]"
      ],
      "execution_count": null,
      "outputs": []
    },
    {
      "cell_type": "code",
      "metadata": {
        "id": "8ly5E87dCJ3R"
      },
      "source": [
        "# keras.utils.plot_model(model, show_shapes=True)"
      ],
      "execution_count": null,
      "outputs": []
    },
    {
      "cell_type": "code",
      "metadata": {
        "id": "LlPDHIgUd03o"
      },
      "source": [
        ""
      ],
      "execution_count": null,
      "outputs": []
    },
    {
      "cell_type": "code",
      "metadata": {
        "colab": {
          "base_uri": "https://localhost:8080/"
        },
        "id": "U7yI0jPlcgem",
        "outputId": "3a078a55-25fc-4e15-fd6d-691876f4afba"
      },
      "source": [
        "epochs = 25\n",
        "\n",
        "res_model = resnet_model.fit(train_ds, epochs=epochs, validation_data=val_ds, callbacks=callbacked)"
      ],
      "execution_count": null,
      "outputs": [
        {
          "output_type": "stream",
          "text": [
            "Epoch 1/25\n",
            "25/25 [==============================] - 308s 7s/step - loss: 0.6848 - accuracy: 0.7381 - f1_m: 0.7303 - precision_m: 0.7472 - recall_m: 0.7160 - val_loss: 0.6742 - val_accuracy: 0.8990 - val_f1_m: 0.9219 - val_precision_m: 0.9219 - val_recall_m: 0.9219\n",
            "Epoch 2/25\n",
            "25/25 [==============================] - 12s 431ms/step - loss: 0.6723 - accuracy: 0.8459 - f1_m: 0.8465 - precision_m: 0.8444 - recall_m: 0.8487 - val_loss: 0.6719 - val_accuracy: 0.9192 - val_f1_m: 0.9375 - val_precision_m: 0.9375 - val_recall_m: 0.9375\n",
            "Epoch 3/25\n",
            "25/25 [==============================] - 12s 432ms/step - loss: 0.6708 - accuracy: 0.8163 - f1_m: 0.8160 - precision_m: 0.8159 - recall_m: 0.8161 - val_loss: 0.6721 - val_accuracy: 0.8788 - val_f1_m: 0.9020 - val_precision_m: 0.9057 - val_recall_m: 0.8984\n",
            "Epoch 4/25\n",
            "25/25 [==============================] - 12s 428ms/step - loss: 0.6653 - accuracy: 0.8556 - f1_m: 0.8568 - precision_m: 0.8556 - recall_m: 0.8580 - val_loss: 0.6712 - val_accuracy: 0.8485 - val_f1_m: 0.8828 - val_precision_m: 0.8828 - val_recall_m: 0.8828\n",
            "Epoch 5/25\n",
            "25/25 [==============================] - 12s 425ms/step - loss: 0.6649 - accuracy: 0.8690 - f1_m: 0.8694 - precision_m: 0.8691 - recall_m: 0.8697 - val_loss: 0.6686 - val_accuracy: 0.8687 - val_f1_m: 0.8984 - val_precision_m: 0.8984 - val_recall_m: 0.8984\n",
            "Epoch 6/25\n",
            "25/25 [==============================] - 12s 426ms/step - loss: 0.6608 - accuracy: 0.8620 - f1_m: 0.8585 - precision_m: 0.8551 - recall_m: 0.8620 - val_loss: 0.6687 - val_accuracy: 0.8485 - val_f1_m: 0.8917 - val_precision_m: 0.8852 - val_recall_m: 0.8984\n",
            "Epoch 7/25\n",
            "25/25 [==============================] - 12s 429ms/step - loss: 0.6601 - accuracy: 0.8622 - f1_m: 0.8627 - precision_m: 0.8618 - recall_m: 0.8637 - val_loss: 0.6641 - val_accuracy: 0.9394 - val_f1_m: 0.8740 - val_precision_m: 0.8705 - val_recall_m: 0.8776\n",
            "Epoch 8/25\n",
            "25/25 [==============================] - 12s 427ms/step - loss: 0.6546 - accuracy: 0.8894 - f1_m: 0.8877 - precision_m: 0.8861 - recall_m: 0.8893 - val_loss: 0.6613 - val_accuracy: 0.8889 - val_f1_m: 0.9144 - val_precision_m: 0.9150 - val_recall_m: 0.9141\n",
            "Epoch 9/25\n",
            "25/25 [==============================] - 12s 429ms/step - loss: 0.6564 - accuracy: 0.8522 - f1_m: 0.8525 - precision_m: 0.8522 - recall_m: 0.8529 - val_loss: 0.6584 - val_accuracy: 0.9091 - val_f1_m: 0.8506 - val_precision_m: 0.8471 - val_recall_m: 0.8542\n",
            "Epoch 10/25\n",
            "25/25 [==============================] - 12s 425ms/step - loss: 0.6532 - accuracy: 0.8889 - f1_m: 0.8892 - precision_m: 0.8892 - recall_m: 0.8892 - val_loss: 0.6610 - val_accuracy: 0.8889 - val_f1_m: 0.9141 - val_precision_m: 0.9141 - val_recall_m: 0.9141\n",
            "Epoch 11/25\n",
            "25/25 [==============================] - 12s 427ms/step - loss: 0.6527 - accuracy: 0.8801 - f1_m: 0.8788 - precision_m: 0.8772 - recall_m: 0.8804 - val_loss: 0.6635 - val_accuracy: 0.8485 - val_f1_m: 0.8073 - val_precision_m: 0.8073 - val_recall_m: 0.8073\n",
            "Epoch 12/25\n",
            "25/25 [==============================] - 12s 428ms/step - loss: 0.6510 - accuracy: 0.8791 - f1_m: 0.8754 - precision_m: 0.8728 - recall_m: 0.8781 - val_loss: 0.6616 - val_accuracy: 0.8283 - val_f1_m: 0.7917 - val_precision_m: 0.7917 - val_recall_m: 0.7917\n",
            "Epoch 13/25\n",
            "25/25 [==============================] - 12s 425ms/step - loss: 0.6519 - accuracy: 0.8877 - f1_m: 0.8865 - precision_m: 0.8858 - recall_m: 0.8872 - val_loss: 0.6523 - val_accuracy: 0.9596 - val_f1_m: 0.9687 - val_precision_m: 0.9688 - val_recall_m: 0.9688\n",
            "Epoch 14/25\n",
            "25/25 [==============================] - 12s 427ms/step - loss: 0.6472 - accuracy: 0.8745 - f1_m: 0.8728 - precision_m: 0.8725 - recall_m: 0.8731 - val_loss: 0.6619 - val_accuracy: 0.8081 - val_f1_m: 0.8516 - val_precision_m: 0.8516 - val_recall_m: 0.8516\n",
            "Epoch 15/25\n",
            "25/25 [==============================] - 12s 425ms/step - loss: 0.6519 - accuracy: 0.8648 - f1_m: 0.8630 - precision_m: 0.8632 - recall_m: 0.8629 - val_loss: 0.6466 - val_accuracy: 0.9899 - val_f1_m: 0.9922 - val_precision_m: 0.9922 - val_recall_m: 0.9922\n",
            "Epoch 16/25\n",
            "25/25 [==============================] - 12s 429ms/step - loss: 0.6454 - accuracy: 0.8587 - f1_m: 0.8548 - precision_m: 0.8565 - recall_m: 0.8532 - val_loss: 0.6481 - val_accuracy: 0.9394 - val_f1_m: 0.8776 - val_precision_m: 0.8776 - val_recall_m: 0.8776\n",
            "Epoch 17/25\n",
            "25/25 [==============================] - 12s 426ms/step - loss: 0.6441 - accuracy: 0.8620 - f1_m: 0.8567 - precision_m: 0.8603 - recall_m: 0.8533 - val_loss: 0.6468 - val_accuracy: 0.9596 - val_f1_m: 0.9687 - val_precision_m: 0.9688 - val_recall_m: 0.9688\n",
            "Epoch 18/25\n",
            "25/25 [==============================] - 12s 428ms/step - loss: 0.6413 - accuracy: 0.8775 - f1_m: 0.8756 - precision_m: 0.8749 - recall_m: 0.8763 - val_loss: 0.6550 - val_accuracy: 0.8283 - val_f1_m: 0.8672 - val_precision_m: 0.8672 - val_recall_m: 0.8672\n",
            "Epoch 19/25\n",
            "25/25 [==============================] - 12s 425ms/step - loss: 0.6419 - accuracy: 0.8716 - f1_m: 0.8718 - precision_m: 0.8714 - recall_m: 0.8722 - val_loss: 0.6436 - val_accuracy: 0.9192 - val_f1_m: 0.9375 - val_precision_m: 0.9375 - val_recall_m: 0.9375\n",
            "Epoch 20/25\n",
            "25/25 [==============================] - 12s 426ms/step - loss: 0.6356 - accuracy: 0.8772 - f1_m: 0.8768 - precision_m: 0.8769 - recall_m: 0.8766 - val_loss: 0.6417 - val_accuracy: 0.9192 - val_f1_m: 0.9375 - val_precision_m: 0.9375 - val_recall_m: 0.9375\n",
            "Epoch 21/25\n",
            "25/25 [==============================] - 12s 426ms/step - loss: 0.6348 - accuracy: 0.8650 - f1_m: 0.8653 - precision_m: 0.8647 - recall_m: 0.8659 - val_loss: 0.6424 - val_accuracy: 0.9192 - val_f1_m: 0.9375 - val_precision_m: 0.9375 - val_recall_m: 0.9375\n",
            "Epoch 22/25\n",
            "25/25 [==============================] - 12s 428ms/step - loss: 0.6290 - accuracy: 0.8793 - f1_m: 0.8795 - precision_m: 0.8794 - recall_m: 0.8796 - val_loss: 0.6403 - val_accuracy: 0.9293 - val_f1_m: 0.9488 - val_precision_m: 0.9524 - val_recall_m: 0.9453\n",
            "Epoch 23/25\n",
            "25/25 [==============================] - 12s 427ms/step - loss: 0.6342 - accuracy: 0.8736 - f1_m: 0.8732 - precision_m: 0.8726 - recall_m: 0.8739 - val_loss: 0.6571 - val_accuracy: 0.7374 - val_f1_m: 0.7969 - val_precision_m: 0.7969 - val_recall_m: 0.7969\n",
            "Epoch 24/25\n",
            "25/25 [==============================] - 12s 426ms/step - loss: 0.6309 - accuracy: 0.8937 - f1_m: 0.8946 - precision_m: 0.8948 - recall_m: 0.8945 - val_loss: 0.6664 - val_accuracy: 0.6364 - val_f1_m: 0.6432 - val_precision_m: 0.6432 - val_recall_m: 0.6432\n",
            "Epoch 25/25\n",
            "25/25 [==============================] - 12s 425ms/step - loss: 0.6289 - accuracy: 0.8661 - f1_m: 0.8679 - precision_m: 0.8666 - recall_m: 0.8692 - val_loss: 0.6443 - val_accuracy: 0.8182 - val_f1_m: 0.7839 - val_precision_m: 0.7839 - val_recall_m: 0.7839\n"
          ],
          "name": "stdout"
        }
      ]
    },
    {
      "cell_type": "code",
      "metadata": {
        "id": "2xbwgchbNvdg"
      },
      "source": [
        "import matplotlib.pyplot as plt\n",
        "\n",
        "def plot_curve(history):\n",
        "    acc = history.history['accuracy']\n",
        "    val_acc = history.history['val_accuracy']\n",
        "    loss = history.history['loss']\n",
        "    val_loss = history.history['val_loss']\n",
        "    \n",
        "    epochs = range(1,len(acc)+1)\n",
        "    \n",
        "    plt.plot(epochs,acc,'-',label='Training acc')\n",
        "    plt.plot(epochs,val_acc,'-',label='Validation acc',color =\"orange\")\n",
        "    plt.title('Training and validation accuracy')\n",
        "    plt.legend()\n",
        "\n",
        "    plt.savefig(\"acc.png\", dpi = 300)\n",
        "    \n",
        "    plt.figure()\n",
        "    plt.plot(epochs,loss,'-',label='Training loss')\n",
        "    plt.plot(epochs,val_loss,'-',label='Validation loss',color =\"orange\")\n",
        "    plt.title('Training and validation loss')\n",
        "    plt.legend()\n",
        "    \n",
        "    plt.savefig(\"loss.png\", dpi = 300)"
      ],
      "execution_count": null,
      "outputs": []
    },
    {
      "cell_type": "code",
      "metadata": {
        "id": "2ddUMMmQP_Tp",
        "colab": {
          "base_uri": "https://localhost:8080/",
          "height": 545
        },
        "outputId": "b62f76a2-9722-42c2-f9d1-2b6f38b80667"
      },
      "source": [
        "plot_curve(res_model)"
      ],
      "execution_count": null,
      "outputs": [
        {
          "output_type": "display_data",
          "data": {
            "image/png": "[encoded data removed]",
            "text/plain": [
              "<Figure size 432x288 with 1 Axes>"
            ]
          },
          "metadata": {
            "tags": [],
            "needs_background": "light"
          }
        },
        {
          "output_type": "display_data",
          "data": {
            "image/png": "[encoded data removed]",
            "text/plain": [
              "<Figure size 432x288 with 1 Axes>"
            ]
          },
          "metadata": {
            "tags": [],
            "needs_background": "light"
          }
        }
      ]
    },
    {
      "cell_type": "markdown",
      "metadata": {
        "id": "xnGX0J9wL6_A"
      },
      "source": [
        "# approach 2 \n"
      ]
    },
    {
      "cell_type": "code",
      "metadata": {
        "id": "3dGZUoA1MaJ1"
      },
      "source": [
        "path_model=\"/content/gdrive/Shareddrives/ComED Codes and Data/model_weights/resnet_11.h5\"\n",
        "resnet_model.load_weights(path_model)"
      ],
      "execution_count": null,
      "outputs": []
    },
    {
      "cell_type": "code",
      "metadata": {
        "id": "8Wqi4kxNcn_b"
      },
      "source": [
        "import numpy as np"
      ],
      "execution_count": null,
      "outputs": []
    },
    {
      "cell_type": "code",
      "metadata": {
        "id": "vDEJbBOOAJTF"
      },
      "source": [
        ""
      ],
      "execution_count": null,
      "outputs": []
    },
    {
      "cell_type": "code",
      "metadata": {
        "id": "2SnnGBSoL-Hc"
      },
      "source": [
        "def process_image(img):\n",
        "  img = []\n",
        "  x = []\n",
        "  from keras.preprocessing import image\n",
        "  x = image.img_to_array(i)\n",
        "  # x = tf.image.rgb_to_grayscale(x)\n",
        "  x = np.expand_dims(x, axis=0)\n",
        "  img.append(x)\n",
        "\n",
        "\n",
        "  x = np.concatenate([x for x in img])\n",
        "  return x\n"
      ],
      "execution_count": null,
      "outputs": []
    },
    {
      "cell_type": "code",
      "metadata": {
        "colab": {
          "base_uri": "https://localhost:8080/",
          "height": 312
        },
        "id": "Q0alNPfvJunD",
        "outputId": "4b42d9fb-d72c-4f92-ba59-535b68bce60d"
      },
      "source": [
        "predict_prob = []\n",
        "label_list = []\n",
        "for i, j in test_ds.unbatch():\n",
        "  processed_image = process_image(i)\n",
        "  pred = resnet_model.predict(processed_image)[0][1]\n",
        "  label_list.append(j)\n",
        "  predict_prob.append(pred)\n",
        "\n",
        "print(\"done!\")\n",
        "\n",
        "from sklearn.metrics import roc_curve, auc\n",
        "# Compute ROC curve and ROC area for each class\n",
        "# Compute ROC curve and ROC area for each class\n",
        "fpr = dict()\n",
        "tpr = dict()\n",
        "roc_auc = dict()\n",
        "fpr, tpr, _ = roc_curve(label_list, predict_prob)\n",
        "roc_auc= auc(fpr, tpr)\n",
        "\n",
        "plt.figure()\n",
        "lw = 2\n",
        "plt.plot(fpr, tpr, color='darkorange',\n",
        "         lw=lw, label='ROC curve (area = %0.2f)' % roc_auc)\n",
        "plt.plot([0, 1], [0, 1], color='navy', lw=lw, linestyle='--')\n",
        "plt.xlim([0.0, 1.0])\n",
        "plt.ylim([0.0, 1.05])\n",
        "plt.xlabel('False Positive Rate')\n",
        "plt.ylabel('True Positive Rate')\n",
        "plt.title('Receiver operating characteristic example')\n",
        "plt.legend(loc=\"lower right\")\n",
        "plt.show()"
      ],
      "execution_count": null,
      "outputs": [
        {
          "output_type": "stream",
          "text": [
            "done!\n"
          ],
          "name": "stdout"
        },
        {
          "output_type": "display_data",
          "data": {
            "image/png": "[encoded data removed]",
            "text/plain": [
              "<Figure size 432x288 with 1 Axes>"
            ]
          },
          "metadata": {
            "tags": [],
            "needs_background": "light"
          }
        }
      ]
    },
    {
      "cell_type": "code",
      "metadata": {
        "colab": {
          "base_uri": "https://localhost:8080/"
        },
        "id": "ucZy4RGgLhLF",
        "outputId": "e87763ee-e66a-496a-f0fc-4c34f5255b6f"
      },
      "source": [
        "from sklearn.metrics import average_precision_score\n",
        "average_precision = average_precision_score(label_list, predict_prob)\n",
        "\n",
        "print('Average precision-recall score: {0:0.2f}'.format(average_precision))"
      ],
      "execution_count": null,
      "outputs": [
        {
          "output_type": "stream",
          "text": [
            "Average precision-recall score: 0.53\n"
          ],
          "name": "stdout"
        }
      ]
    },
    {
      "cell_type": "code",
      "metadata": {
        "colab": {
          "base_uri": "https://localhost:8080/",
          "height": 517
        },
        "id": "XAfIPExs9DmG",
        "outputId": "d2126606-7e7d-4a29-83e3-985fdc6bc194"
      },
      "source": [
        "from sklearn.metrics import precision_recall_curve\n",
        "from sklearn.metrics import average_precision_score\n",
        "\n",
        "# For each class\n",
        "precision = dict()\n",
        "recall = dict()\n",
        "average_precision = dict()\n",
        "\n",
        "precision, recall, _ = precision_recall_curve(label_list, predict_prob)\n",
        "\n",
        "import plotly.express as px\n",
        "fig = px.line(\n",
        "    x=recall, y=precision,\n",
        "    title=f'Precision-Recall Curve (AUC={auc(fpr, tpr):.4f})',\n",
        "    labels=dict(x='Recall', y='Precision'),\n",
        "    width=700, height=500\n",
        ")\n",
        "fig.add_shape(\n",
        "    type='line', line=dict(dash='dash'),\n",
        "    x0=0, x1=1, y0=1, y1=0\n",
        ")\n",
        "fig.update_yaxes(scaleanchor=\"x\", scaleratio=1)\n",
        "fig.update_xaxes(constrain='domain')\n",
        "\n",
        "fig.show()"
      ],
      "execution_count": null,
      "outputs": [
        {
          "output_type": "display_data",
          "data": {
            "text/html": [
              "<html>\n",
              "<head><meta charset=\"utf-8\" /></head>\n",
              "<body>\n",
              "    <div>\n",
              "            <script src=\"https://cdnjs.cloudflare.com/ajax/libs/mathjax/2.7.5/MathJax.js?config=TeX-AMS-MML_SVG\"></script><script type=\"text/javascript\">if (window.MathJax) {MathJax.Hub.Config({SVG: {font: \"STIX-Web\"}});}</script>\n",
              "                <script type=\"text/javascript\">window.PlotlyConfig = {MathJaxConfig: 'local'};</script>\n",
              "        <script src=\"https://cdn.plot.ly/plotly-latest.min.js\"></script>    \n",
              "            <div id=\"eacb944f-852f-44f6-a063-de50d09c37d0\" class=\"plotly-graph-div\" style=\"height:500px; width:700px;\"></div>\n",
              "            <script type=\"text/javascript\">\n",
              "                \n",
              "                    window.PLOTLYENV=window.PLOTLYENV || {};\n",
              "                    \n",
              "                if (document.getElementById(\"eacb944f-852f-44f6-a063-de50d09c37d0\")) {\n",
              "                    Plotly.newPlot(\n",
              "                        'eacb944f-852f-44f6-a063-de50d09c37d0',\n",
              "                        [{\"hoverlabel\": {\"namelength\": 0}, \"hovertemplate\": \"Recall=%{x}<br>Precision=%{y}\", \"legendgroup\": \"\", \"line\": {\"color\": \"#636efa\", \"dash\": \"solid\"}, \"mode\": \"lines\", \"name\": \"\", \"showlegend\": false, \"type\": \"scatter\", \"x\": [1.0, 0.9333333333333333, 0.9333333333333333, 0.8666666666666667, 0.8, 0.7333333333333333, 0.7333333333333333, 0.7333333333333333, 0.7333333333333333, 0.7333333333333333, 0.7333333333333333, 0.7333333333333333, 0.7333333333333333, 0.7333333333333333, 0.7333333333333333, 0.7333333333333333, 0.7333333333333333, 0.7333333333333333, 0.7333333333333333, 0.7333333333333333, 0.7333333333333333, 0.7333333333333333, 0.7333333333333333, 0.7333333333333333, 0.7333333333333333, 0.7333333333333333, 0.7333333333333333, 0.7333333333333333, 0.7333333333333333, 0.7333333333333333, 0.6666666666666666, 0.6666666666666666, 0.6666666666666666, 0.6666666666666666, 0.6, 0.6, 0.6, 0.6, 0.6, 0.6, 0.6, 0.6, 0.6, 0.6, 0.6, 0.6, 0.5333333333333333, 0.5333333333333333, 0.5333333333333333, 0.4666666666666667, 0.4666666666666667, 0.4666666666666667, 0.4666666666666667, 0.4, 0.3333333333333333, 0.26666666666666666, 0.26666666666666666, 0.2, 0.13333333333333333, 0.13333333333333333, 0.13333333333333333, 0.06666666666666667, 0.0], \"xaxis\": \"x\", \"y\": [0.234375, 0.2222222222222222, 0.22580645161290322, 0.21311475409836064, 0.2, 0.1864406779661017, 0.1896551724137931, 0.19298245614035087, 0.19642857142857142, 0.2, 0.2037037037037037, 0.20754716981132076, 0.21153846153846154, 0.21568627450980393, 0.22, 0.22448979591836735, 0.22916666666666666, 0.23404255319148937, 0.2391304347826087, 0.24444444444444444, 0.25, 0.2558139534883721, 0.2619047619047619, 0.2682926829268293, 0.275, 0.28205128205128205, 0.2972972972972973, 0.3055555555555556, 0.3142857142857143, 0.3235294117647059, 0.30303030303030304, 0.3125, 0.3225806451612903, 0.3333333333333333, 0.3103448275862069, 0.32142857142857145, 0.3333333333333333, 0.34615384615384615, 0.36, 0.375, 0.4090909090909091, 0.42857142857142855, 0.45, 0.47368421052631576, 0.5, 0.5294117647058824, 0.5, 0.5333333333333333, 0.5714285714285714, 0.5384615384615384, 0.5833333333333334, 0.6363636363636364, 0.7, 0.6666666666666666, 0.625, 0.5714285714285714, 0.6666666666666666, 0.6, 0.5, 0.6666666666666666, 1.0, 1.0, 1.0], \"yaxis\": \"y\"}],\n",
              "                        {\"height\": 500, \"legend\": {\"tracegroupgap\": 0}, \"shapes\": [{\"line\": {\"dash\": \"dash\"}, \"type\": \"line\", \"x0\": 0, \"x1\": 1, \"y0\": 1, \"y1\": 0}], \"template\": {\"data\": {\"bar\": [{\"error_x\": {\"color\": \"#2a3f5f\"}, \"error_y\": {\"color\": \"#2a3f5f\"}, \"marker\": {\"line\": {\"color\": \"#E5ECF6\", \"width\": 0.5}}, \"type\": \"bar\"}], \"barpolar\": [{\"marker\": {\"line\": {\"color\": \"#E5ECF6\", \"width\": 0.5}}, \"type\": \"barpolar\"}], \"carpet\": [{\"aaxis\": {\"endlinecolor\": \"#2a3f5f\", \"gridcolor\": \"white\", \"linecolor\": \"white\", \"minorgridcolor\": \"white\", \"startlinecolor\": \"#2a3f5f\"}, \"baxis\": {\"endlinecolor\": \"#2a3f5f\", \"gridcolor\": \"white\", \"linecolor\": \"white\", \"minorgridcolor\": \"white\", \"startlinecolor\": \"#2a3f5f\"}, \"type\": \"carpet\"}], \"choropleth\": [{\"colorbar\": {\"outlinewidth\": 0, \"ticks\": \"\"}, \"type\": \"choropleth\"}], \"contour\": [{\"colorbar\": {\"outlinewidth\": 0, \"ticks\": \"\"}, \"colorscale\": [[0.0, \"#0d0887\"], [0.1111111111111111, \"#46039f\"], [0.2222222222222222, \"#7201a8\"], [0.3333333333333333, \"#9c179e\"], [0.4444444444444444, \"#bd3786\"], [0.5555555555555556, \"#d8576b\"], [0.6666666666666666, \"#ed7953\"], [0.7777777777777778, \"#fb9f3a\"], [0.8888888888888888, \"#fdca26\"], [1.0, \"#f0f921\"]], \"type\": \"contour\"}], \"contourcarpet\": [{\"colorbar\": {\"outlinewidth\": 0, \"ticks\": \"\"}, \"type\": \"contourcarpet\"}], \"heatmap\": [{\"colorbar\": {\"outlinewidth\": 0, \"ticks\": \"\"}, \"colorscale\": [[0.0, \"#0d0887\"], [0.1111111111111111, \"#46039f\"], [0.2222222222222222, \"#7201a8\"], [0.3333333333333333, \"#9c179e\"], [0.4444444444444444, \"#bd3786\"], [0.5555555555555556, \"#d8576b\"], [0.6666666666666666, \"#ed7953\"], [0.7777777777777778, \"#fb9f3a\"], [0.8888888888888888, \"#fdca26\"], [1.0, \"#f0f921\"]], \"type\": \"heatmap\"}], \"heatmapgl\": [{\"colorbar\": {\"outlinewidth\": 0, \"ticks\": \"\"}, \"colorscale\": [[0.0, \"#0d0887\"], [0.1111111111111111, \"#46039f\"], [0.2222222222222222, \"#7201a8\"], [0.3333333333333333, \"#9c179e\"], [0.4444444444444444, \"#bd3786\"], [0.5555555555555556, \"#d8576b\"], [0.6666666666666666, \"#ed7953\"], [0.7777777777777778, \"#fb9f3a\"], [0.8888888888888888, \"#fdca26\"], [1.0, \"#f0f921\"]], \"type\": \"heatmapgl\"}], \"histogram\": [{\"marker\": {\"colorbar\": {\"outlinewidth\": 0, \"ticks\": \"\"}}, \"type\": \"histogram\"}], \"histogram2d\": [{\"colorbar\": {\"outlinewidth\": 0, \"ticks\": \"\"}, \"colorscale\": [[0.0, \"#0d0887\"], [0.1111111111111111, \"#46039f\"], [0.2222222222222222, \"#7201a8\"], [0.3333333333333333, \"#9c179e\"], [0.4444444444444444, \"#bd3786\"], [0.5555555555555556, \"#d8576b\"], [0.6666666666666666, \"#ed7953\"], [0.7777777777777778, \"#fb9f3a\"], [0.8888888888888888, \"#fdca26\"], [1.0, \"#f0f921\"]], \"type\": \"histogram2d\"}], \"histogram2dcontour\": [{\"colorbar\": {\"outlinewidth\": 0, \"ticks\": \"\"}, \"colorscale\": [[0.0, \"#0d0887\"], [0.1111111111111111, \"#46039f\"], [0.2222222222222222, \"#7201a8\"], [0.3333333333333333, \"#9c179e\"], [0.4444444444444444, \"#bd3786\"], [0.5555555555555556, \"#d8576b\"], [0.6666666666666666, \"#ed7953\"], [0.7777777777777778, \"#fb9f3a\"], [0.8888888888888888, \"#fdca26\"], [1.0, \"#f0f921\"]], \"type\": \"histogram2dcontour\"}], \"mesh3d\": [{\"colorbar\": {\"outlinewidth\": 0, \"ticks\": \"\"}, \"type\": \"mesh3d\"}], \"parcoords\": [{\"line\": {\"colorbar\": {\"outlinewidth\": 0, \"ticks\": \"\"}}, \"type\": \"parcoords\"}], \"pie\": [{\"automargin\": true, \"type\": \"pie\"}], \"scatter\": [{\"marker\": {\"colorbar\": {\"outlinewidth\": 0, \"ticks\": \"\"}}, \"type\": \"scatter\"}], \"scatter3d\": [{\"line\": {\"colorbar\": {\"outlinewidth\": 0, \"ticks\": \"\"}}, \"marker\": {\"colorbar\": {\"outlinewidth\": 0, \"ticks\": \"\"}}, \"type\": \"scatter3d\"}], \"scattercarpet\": [{\"marker\": {\"colorbar\": {\"outlinewidth\": 0, \"ticks\": \"\"}}, \"type\": \"scattercarpet\"}], \"scattergeo\": [{\"marker\": {\"colorbar\": {\"outlinewidth\": 0, \"ticks\": \"\"}}, \"type\": \"scattergeo\"}], \"scattergl\": [{\"marker\": {\"colorbar\": {\"outlinewidth\": 0, \"ticks\": \"\"}}, \"type\": \"scattergl\"}], \"scattermapbox\": [{\"marker\": {\"colorbar\": {\"outlinewidth\": 0, \"ticks\": \"\"}}, \"type\": \"scattermapbox\"}], \"scatterpolar\": [{\"marker\": {\"colorbar\": {\"outlinewidth\": 0, \"ticks\": \"\"}}, \"type\": \"scatterpolar\"}], \"scatterpolargl\": [{\"marker\": {\"colorbar\": {\"outlinewidth\": 0, \"ticks\": \"\"}}, \"type\": \"scatterpolargl\"}], \"scatterternary\": [{\"marker\": {\"colorbar\": {\"outlinewidth\": 0, \"ticks\": \"\"}}, \"type\": \"scatterternary\"}], \"surface\": [{\"colorbar\": {\"outlinewidth\": 0, \"ticks\": \"\"}, \"colorscale\": [[0.0, \"#0d0887\"], [0.1111111111111111, \"#46039f\"], [0.2222222222222222, \"#7201a8\"], [0.3333333333333333, \"#9c179e\"], [0.4444444444444444, \"#bd3786\"], [0.5555555555555556, \"#d8576b\"], [0.6666666666666666, \"#ed7953\"], [0.7777777777777778, \"#fb9f3a\"], [0.8888888888888888, \"#fdca26\"], [1.0, \"#f0f921\"]], \"type\": \"surface\"}], \"table\": [{\"cells\": {\"fill\": {\"color\": \"#EBF0F8\"}, \"line\": {\"color\": \"white\"}}, \"header\": {\"fill\": {\"color\": \"#C8D4E3\"}, \"line\": {\"color\": \"white\"}}, \"type\": \"table\"}]}, \"layout\": {\"annotationdefaults\": {\"arrowcolor\": \"#2a3f5f\", \"arrowhead\": 0, \"arrowwidth\": 1}, \"coloraxis\": {\"colorbar\": {\"outlinewidth\": 0, \"ticks\": \"\"}}, \"colorscale\": {\"diverging\": [[0, \"#8e0152\"], [0.1, \"#c51b7d\"], [0.2, \"#de77ae\"], [0.3, \"#f1b6da\"], [0.4, \"#fde0ef\"], [0.5, \"#f7f7f7\"], [0.6, \"#e6f5d0\"], [0.7, \"#b8e186\"], [0.8, \"#7fbc41\"], [0.9, \"#4d9221\"], [1, \"#276419\"]], \"sequential\": [[0.0, \"#0d0887\"], [0.1111111111111111, \"#46039f\"], [0.2222222222222222, \"#7201a8\"], [0.3333333333333333, \"#9c179e\"], [0.4444444444444444, \"#bd3786\"], [0.5555555555555556, \"#d8576b\"], [0.6666666666666666, \"#ed7953\"], [0.7777777777777778, \"#fb9f3a\"], [0.8888888888888888, \"#fdca26\"], [1.0, \"#f0f921\"]], \"sequentialminus\": [[0.0, \"#0d0887\"], [0.1111111111111111, \"#46039f\"], [0.2222222222222222, \"#7201a8\"], [0.3333333333333333, \"#9c179e\"], [0.4444444444444444, \"#bd3786\"], [0.5555555555555556, \"#d8576b\"], [0.6666666666666666, \"#ed7953\"], [0.7777777777777778, \"#fb9f3a\"], [0.8888888888888888, \"#fdca26\"], [1.0, \"#f0f921\"]]}, \"colorway\": [\"#636efa\", \"#EF553B\", \"#00cc96\", \"#ab63fa\", \"#FFA15A\", \"#19d3f3\", \"#FF6692\", \"#B6E880\", \"#FF97FF\", \"#FECB52\"], \"font\": {\"color\": \"#2a3f5f\"}, \"geo\": {\"bgcolor\": \"white\", \"lakecolor\": \"white\", \"landcolor\": \"#E5ECF6\", \"showlakes\": true, \"showland\": true, \"subunitcolor\": \"white\"}, \"hoverlabel\": {\"align\": \"left\"}, \"hovermode\": \"closest\", \"mapbox\": {\"style\": \"light\"}, \"paper_bgcolor\": \"white\", \"plot_bgcolor\": \"#E5ECF6\", \"polar\": {\"angularaxis\": {\"gridcolor\": \"white\", \"linecolor\": \"white\", \"ticks\": \"\"}, \"bgcolor\": \"#E5ECF6\", \"radialaxis\": {\"gridcolor\": \"white\", \"linecolor\": \"white\", \"ticks\": \"\"}}, \"scene\": {\"xaxis\": {\"backgroundcolor\": \"#E5ECF6\", \"gridcolor\": \"white\", \"gridwidth\": 2, \"linecolor\": \"white\", \"showbackground\": true, \"ticks\": \"\", \"zerolinecolor\": \"white\"}, \"yaxis\": {\"backgroundcolor\": \"#E5ECF6\", \"gridcolor\": \"white\", \"gridwidth\": 2, \"linecolor\": \"white\", \"showbackground\": true, \"ticks\": \"\", \"zerolinecolor\": \"white\"}, \"zaxis\": {\"backgroundcolor\": \"#E5ECF6\", \"gridcolor\": \"white\", \"gridwidth\": 2, \"linecolor\": \"white\", \"showbackground\": true, \"ticks\": \"\", \"zerolinecolor\": \"white\"}}, \"shapedefaults\": {\"line\": {\"color\": \"#2a3f5f\"}}, \"ternary\": {\"aaxis\": {\"gridcolor\": \"white\", \"linecolor\": \"white\", \"ticks\": \"\"}, \"baxis\": {\"gridcolor\": \"white\", \"linecolor\": \"white\", \"ticks\": \"\"}, \"bgcolor\": \"#E5ECF6\", \"caxis\": {\"gridcolor\": \"white\", \"linecolor\": \"white\", \"ticks\": \"\"}}, \"title\": {\"x\": 0.05}, \"xaxis\": {\"automargin\": true, \"gridcolor\": \"white\", \"linecolor\": \"white\", \"ticks\": \"\", \"title\": {\"standoff\": 15}, \"zerolinecolor\": \"white\", \"zerolinewidth\": 2}, \"yaxis\": {\"automargin\": true, \"gridcolor\": \"white\", \"linecolor\": \"white\", \"ticks\": \"\", \"title\": {\"standoff\": 15}, \"zerolinecolor\": \"white\", \"zerolinewidth\": 2}}}, \"title\": {\"text\": \"Precision-Recall Curve (AUC=0.7662)\"}, \"width\": 700, \"xaxis\": {\"anchor\": \"y\", \"constrain\": \"domain\", \"domain\": [0.0, 1.0], \"title\": {\"text\": \"Recall\"}}, \"yaxis\": {\"anchor\": \"x\", \"domain\": [0.0, 1.0], \"scaleanchor\": \"x\", \"scaleratio\": 1, \"title\": {\"text\": \"Precision\"}}},\n",
              "                        {\"responsive\": true}\n",
              "                    ).then(function(){\n",
              "                            \n",
              "var gd = document.getElementById('eacb944f-852f-44f6-a063-de50d09c37d0');\n",
              "var x = new MutationObserver(function (mutations, observer) {{\n",
              "        var display = window.getComputedStyle(gd).display;\n",
              "        if (!display || display === 'none') {{\n",
              "            console.log([gd, 'removed!']);\n",
              "            Plotly.purge(gd);\n",
              "            observer.disconnect();\n",
              "        }}\n",
              "}});\n",
              "\n",
              "// Listen for the removal of the full notebook cells\n",
              "var notebookContainer = gd.closest('#notebook-container');\n",
              "if (notebookContainer) {{\n",
              "    x.observe(notebookContainer, {childList: true});\n",
              "}}\n",
              "\n",
              "// Listen for the clearing of the current output cell\n",
              "var outputEl = gd.closest('.output');\n",
              "if (outputEl) {{\n",
              "    x.observe(outputEl, {childList: true});\n",
              "}}\n",
              "\n",
              "                        })\n",
              "                };\n",
              "                \n",
              "            </script>\n",
              "        </div>\n",
              "</body>\n",
              "</html>"
            ]
          },
          "metadata": {
            "tags": []
          }
        }
      ]
    },
    {
      "cell_type": "code",
      "metadata": {
        "id": "ZaxDppt6BNTl"
      },
      "source": [
        ""
      ],
      "execution_count": null,
      "outputs": []
    }
  ]
}